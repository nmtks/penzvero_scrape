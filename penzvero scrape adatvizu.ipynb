{
 "cells": [
  {
   "cell_type": "markdown",
   "id": "4a000c1b",
   "metadata": {},
   "source": [
    "# Emlékérmék adatainak scrapelése a penzvero.hu-ról és az adatok rövid elemzése\n"
   ]
  },
  {
   "cell_type": "markdown",
   "id": "360683d4",
   "metadata": {},
   "source": [
    "A beadandóm témája az emlékérmék, ezeknek az adatait scrapelem le, majd röviden elemzem, vizualizálom a fontosabb dolgokat.\n",
    "\n",
    "Az MNB (a Pénzverő Zrt-n keresztül) minden évben kiad különböző emlékérmeket, nagyjából 10-20 különbözőt, mindegyiket pár ezres, esetleg tízezres darabszámban. Alapvetően háromféle van, színesfém, ezüst és arany. Mindegyiknek fontos tulajdonsága, hogy hivatalos fizetőeszköz, az MNB bármikor korlátozás nélkül beváltja névértéken. A színesfém és az ezüst pénzeket a kibocsátást követő három, illetve egy hónapig névértéken lehet megvenni a Pénzverőtől, utána piaci áron (névértéken fölül). Az arany érmék a kibocsátás pillanatától kezdve piaci áron vásárolhatók meg. Ez gyűjtőként azt az érdekes helyzetet teremti meg, hogy ha az ember nem arany pénzeket gyűjt, és a kibocsátáshoz közeli időpontban veszi meg az érméket, akkor a gyűjteményének az értéke nem csökkenhet, csak nőhet, így befektetésként is lehet rá tekinteni, annak egy olyan speciális esete, amikor nominálisan nem csökkenhet az értéke a befektetésnek, nőni viszont nőhet.\n",
    "\n",
    "A Pénzverőnél nem csak ez az egyetlen terméktípus, amit meg lehet venni, vannak mások is, de az érdeklődésem csak az emlékérmékre korlátozódik, így a beadandóm is ezt követi.\n",
    "\n",
    "Mivel gyűjtők veszik, és korlátozott a kínálat, ezért jellemzően fel szokott menni az áruk. A pénzverő.hu-n nem csak az idei, hanem az előző évek érméit is meg lehet venni, így ezt lescrapelve kaphatok egy képet arról, hogy mennyire mennek fel az árak, és talán arról is valamennyit, hogy mi befolyásolja ezt.\n",
    "\n",
    "Nyilván sok boltban, webshopban meg lehet vásárolni ezeket az érméket, az igazi az lenne, ha több webshop kínálatát lescrapelném, de az túlmutatna ennek a beadandónak a keretein. (Később majd valószínűleg megcsinálom egyszer.)"
   ]
  },
  {
   "cell_type": "markdown",
   "id": "9da333ec",
   "metadata": {},
   "source": [
    "## Scrapelés"
   ]
  },
  {
   "cell_type": "code",
   "execution_count": 677,
   "id": "2ee8bb67",
   "metadata": {},
   "outputs": [],
   "source": [
    "#importálások\n",
    "from bs4 import BeautifulSoup\n",
    "import urllib\n",
    "import matplotlib\n",
    "from tqdm import tqdm\n",
    "import pandas as pd\n",
    "import matplotlib\n",
    "import matplotlib.pyplot as plt\n",
    "import numpy as np\n",
    "import datetime\n",
    "import seaborn as sns"
   ]
  },
  {
   "cell_type": "code",
   "execution_count": 2,
   "id": "4a3ed2e7",
   "metadata": {},
   "outputs": [],
   "source": [
    "#alapbeállítások\n",
    "\n",
    "user_agent = 'Mozilla/5.0 (Windows; U; Windows NT 5.1; en-US; rv:1.9.0.7) Gecko/2009021910 Firefox/3.0.7'\n",
    "headers = {'User-Agent':user_agent,} \n",
    "user_agent = 'Mozilla/5.0 (Windows; U; Windows NT 5.1; en-US; rv:1.9.0.7) Gecko/2009021910 Firefox/3.0.7'\n",
    "headers = {'User-Agent':user_agent,} "
   ]
  },
  {
   "cell_type": "code",
   "execution_count": 3,
   "id": "8d506a07",
   "metadata": {},
   "outputs": [
    {
     "data": {
      "text/plain": [
       "['https://penzvero.hu/tipus/emlekerme/',\n",
       " 'https://penzvero.hu/tipus/emlekerme/page/2',\n",
       " 'https://penzvero.hu/tipus/emlekerme/page/3',\n",
       " 'https://penzvero.hu/tipus/emlekerme/page/4',\n",
       " 'https://penzvero.hu/tipus/emlekerme/page/5',\n",
       " 'https://penzvero.hu/tipus/emlekerme/page/6',\n",
       " 'https://penzvero.hu/tipus/emlekerme/page/7',\n",
       " 'https://penzvero.hu/tipus/emlekerme/page/8',\n",
       " 'https://penzvero.hu/tipus/emlekerme/page/9',\n",
       " 'https://penzvero.hu/tipus/emlekerme/page/10',\n",
       " 'https://penzvero.hu/tipus/emlekerme/page/11',\n",
       " 'https://penzvero.hu/tipus/emlekerme/page/12',\n",
       " 'https://penzvero.hu/tipus/emlekerme/page/13',\n",
       " 'https://penzvero.hu/tipus/emlekerme/page/14',\n",
       " 'https://penzvero.hu/tipus/emlekerme/page/15']"
      ]
     },
     "execution_count": 3,
     "metadata": {},
     "output_type": "execute_result"
    }
   ],
   "source": [
    "kezdourl = 'https://penzvero.hu/tipus/emlekerme/'\n",
    "alap_url='https://penzvero.hu/tipus/emlekerme/page/'\n",
    "webshoplink_list=[kezdourl]\n",
    "#manuálisan megnéztem, hogy összesen 15 oldal van, később ezt majd kell módosítani\n",
    "for number in range(2,16):\n",
    "    link=alap_url+str(number)\n",
    "    webshoplink_list.append(link)\n",
    "    \n",
    "#ebben a listában vannak a webshop lapjai, ahol minden oldalon van 16 érme, aminek az adatait le akarom menteni\n",
    "webshoplink_list"
   ]
  },
  {
   "cell_type": "code",
   "execution_count": 4,
   "id": "5832de79",
   "metadata": {},
   "outputs": [],
   "source": [
    "def termeklinkek_list_gyar(inputlink_list):\n",
    "    global termeklinkek_list\n",
    "    termeklinkek_list=[]\n",
    "    for link in tqdm(inputlink_list):\n",
    "        request = urllib.request.Request(link,None,headers)\n",
    "        response = urllib.request.urlopen(request)\n",
    "        data = response.read()\n",
    "        soup = BeautifulSoup(data, 'html.parser')\n",
    "        oldal_elemei=soup.find_all('a', {'class':\"reszletekgomb\"})\n",
    "        for elem in oldal_elemei:\n",
    "            termeklinkek_list.append(elem[\"href\"])\n",
    "    return(termeklinkek_list)"
   ]
  },
  {
   "cell_type": "code",
   "execution_count": 5,
   "id": "e555ef23",
   "metadata": {
    "scrolled": true
   },
   "outputs": [
    {
     "name": "stderr",
     "output_type": "stream",
     "text": [
      "100%|██████████| 15/15 [00:44<00:00,  2.97s/it]\n"
     ]
    },
    {
     "data": {
      "text/plain": [
       "['https://penzvero.hu/termek/2022-evi-bekesy-gyorgy-ezust-emlekerme/',\n",
       " 'https://penzvero.hu/termek/2022-evi-ii-andras-aranybullaja-arany-emlekerme/',\n",
       " 'https://penzvero.hu/termek/2022-evi-lax-peter-ezust-emlekerme-proof/',\n",
       " 'https://penzvero.hu/termek/2022-evi-nemes-nagy-agnes-100-ezust-emlekerme-proof/',\n",
       " 'https://penzvero.hu/termek/2022-evi-az-mrns-alapu-vakcinak-alapjaul-szolgalo-magyar-talalmany-szinesfem-emlekerme-bu/',\n",
       " 'https://penzvero.hu/termek/2022-evi-az-mrns-alapu-vakcinak-alapjaul-szolgalo-magyar-talalmany-ezust-emlekerme-proof/',\n",
       " 'https://penzvero.hu/termek/2021-evi-arpad-hazi-szent-erzsebet-arany-emlekerme-proof/',\n",
       " 'https://penzvero.hu/termek/2021-evi-cziffra-gyorgy-ezust-emlekerme-proof/',\n",
       " 'https://penzvero.hu/termek/2021-evi-egy-a-termeszettel-vadaszati-es-termeszeti-vilagkiallitas-ezust-emlekerme-proof/',\n",
       " 'https://penzvero.hu/termek/2021-evi-benyovszky-moric-szinesfem-emlekerme-bu/',\n",
       " 'https://penzvero.hu/termek/2021-ev-benyovszky-moric-ezust-emlekerme/',\n",
       " 'https://penzvero.hu/termek/2021-evi-xxxii-nyari-olimpiai-es-xvi-paralimpiai-jatekok-tokio-ezust-emlekerme-pp/',\n",
       " 'https://penzvero.hu/termek/2021-evi-az-onallo-ugyeszi-szervezet-alapitasanak-150-evforduloja-ezust-emlekerme-pp/',\n",
       " 'https://penzvero.hu/termek/2021-evi-xvi-labdarugo-europa-bajnoksag-ezust-emlekerme-pp/',\n",
       " 'https://penzvero.hu/termek/2020-evi-a-mob-alapitasanak-125-evforduloja-szinesfem-emlekerme-bu/',\n",
       " 'https://penzvero.hu/termek/2020-evi-a-mob-alapitasanak-125-evforduloja-ezust-emlekerme-pp/',\n",
       " 'https://penzvero.hu/termek/2020-evi-allami-szamvevoszek-ezust-emlekerme/',\n",
       " 'https://penzvero.hu/termek/2020-evi-kiskunsagi-nemzeti-park-ezust-emlekerme/',\n",
       " 'https://penzvero.hu/termek/2020-evi-150-eves-az-orszagos-meteorologiai-szolgalat-ezust-emlekerme-pp/',\n",
       " 'https://penzvero.hu/termek/2020-evi-szinyei-merse-pal-ezust-emlekerme/',\n",
       " 'https://penzvero.hu/termek/2020-evi-30-eve-szabadon-ezust-emlekerme/',\n",
       " 'https://penzvero.hu/termek/2020-evi-a-magyar-tuzolto-szovetseg-alapitasanak-150-evforduloja-ezust-emlekerme/',\n",
       " 'https://penzvero.hu/termek/2020-evi-harsanyi-janos-ezust-emlekerme/',\n",
       " 'https://penzvero.hu/termek/2020-evi-i-ulaszlo-aranyforintja-piedfort-emlekerme/',\n",
       " 'https://penzvero.hu/termek/2020-evi-i-ulaszlo-aranyforintja-emlekerme/',\n",
       " 'https://penzvero.hu/termek/2019-evi-himnusz-ezust-emlekerme/',\n",
       " 'https://penzvero.hu/termek/2019-evi-foldtani-intezet-ezust-emlekerme/',\n",
       " 'https://penzvero.hu/termek/2019-evi-arpad-hazi-szent-piroska-arany-emlekerme/',\n",
       " 'https://penzvero.hu/termek/2019-evi-arpad-hazi-szent-piroska-emlekerme/',\n",
       " 'https://penzvero.hu/termek/2018-evi-az-i-vilaghaboru-befejezesenek-100-evforduloja/',\n",
       " 'https://penzvero.hu/termek/2018-evi-hevesy-gyorgy-ezust-emlekerme-pp/',\n",
       " 'https://penzvero.hu/termek/2018-evi-hevesy-gyorgy-szinesfem-emlekerme-bu/',\n",
       " 'https://penzvero.hu/termek/2018-evi-csaladok-eve-szinesfem-emlekerme/',\n",
       " 'https://penzvero.hu/termek/2018-evi-habsburg-albert-aranyforintja-szinesfem-valtozat/',\n",
       " 'https://penzvero.hu/termek/2018-evi-habsburg-albert-aranyforintja/',\n",
       " 'https://penzvero.hu/termek/2018-evi-habsburg-albert-aranyforintja-piedfort/',\n",
       " 'https://penzvero.hu/termek/2017-evi-pecsi-tudomanyegyetem-szinesfem-emlekerme-bu/',\n",
       " 'https://penzvero.hu/termek/2017-evi-lajtha-laszlo-ezust-emlekerme-pp/',\n",
       " 'https://penzvero.hu/termek/2017-evi-lajtha-laszlo-szinesfem-erme-bu/',\n",
       " 'https://penzvero.hu/termek/2017-evi-irinyi-janos-szinesfem-erme-bu/',\n",
       " 'https://penzvero.hu/termek/2017-evi-irinyi-janos-szinesfem-emlekerme-pp/',\n",
       " 'https://penzvero.hu/termek/2017-evi-bukki-nemzeti-park-ezust-emlekerme-pp/',\n",
       " 'https://penzvero.hu/termek/2017-evi-bukki-nemzeti-park-szinesfem-emlekerme-bu/',\n",
       " 'https://penzvero.hu/termek/2017-evi-arany-janos-ezust-emlekerme-pp/',\n",
       " 'https://penzvero.hu/termek/2017-evi-arany-janos-miniarany-emlekerme/',\n",
       " 'https://penzvero.hu/termek/2017-evi-kossuth-zsuzsanna-ezust-emlekerme-pp/',\n",
       " 'https://penzvero.hu/termek/2017-evi-szent-margit-arany-emlekerme/',\n",
       " 'https://penzvero.hu/termek/2017-evi-szent-margit-arany-emlekerme-szinesfem-valtozat/',\n",
       " 'https://penzvero.hu/termek/2016-evi-szigetvari-var-ezust-emlekerme-pp/',\n",
       " 'https://penzvero.hu/termek/2016-evi-szigetvari-var-szinesfem-emlekerme-bu/',\n",
       " 'https://penzvero.hu/termek/2016-evi-budapesti-allatkert-szinesfem-emlekerme-bu/',\n",
       " 'https://penzvero.hu/termek/2016-evi-szent-marton-szinesfem-emlekerme-bu/',\n",
       " 'https://penzvero.hu/termek/2016-evi-zsigmond-aranyforintja-szinesfem-valtozat/',\n",
       " 'https://penzvero.hu/termek/2016-evi-zsigmond-aranyforintja-arany-emlekerme/',\n",
       " 'https://penzvero.hu/termek/2016-evi-zsigmond-aranyforintja-arany-emlekerme-piedfort/',\n",
       " 'https://penzvero.hu/termek/2016-evi-nyari-olimpia-rio-szinesfem-emlekerme-bu/',\n",
       " 'https://penzvero.hu/termek/2016-evi-nyari-olimpia-rio-ezust-emlekerme-pp/',\n",
       " 'https://penzvero.hu/termek/2016-evi-magyarorszag-alaptorvenye-ezust-emlekerme-pp/',\n",
       " 'https://penzvero.hu/termek/2016-evi-magyarorszag-alaptorvenye-szinesfem-emlekerme-bu/',\n",
       " 'https://penzvero.hu/termek/2016-evi-nyari-olimpia-rio-miniarany-emlekerme/',\n",
       " 'https://penzvero.hu/termek/2015-evi-semmelweis-ignac-miniarany-emlekerme/',\n",
       " 'https://penzvero.hu/termek/2015-evi-semmelweis-ignac-szinesfem-emlekerme-bu/',\n",
       " 'https://penzvero.hu/termek/2015-evi-roth-miksa-szinesfem-emlekerme-bu/',\n",
       " 'https://penzvero.hu/termek/2015-evi-roth-miksa-ezust-emlekerme-pp/',\n",
       " 'https://penzvero.hu/termek/2015-evi-szell-kalman-szinesfem-emlekerme-bu/',\n",
       " 'https://penzvero.hu/termek/2015-evi-szell-kalman-ezust-emlekerme-pp/',\n",
       " 'https://penzvero.hu/termek/2015-vizsolyi-biblia-miniarany-emlekerme/',\n",
       " 'https://penzvero.hu/termek/2015-evi-vizsolyi-biblia-arany-emlekerme/',\n",
       " 'https://penzvero.hu/termek/2015-evi-szilvay-kornel-szinesfem-emlekerme-pp/',\n",
       " 'https://penzvero.hu/termek/2015-evi-szilvay-kornel-szinesfem-emlekerme-bu/',\n",
       " 'https://penzvero.hu/termek/2015-evi-koszegi-var-szinesfem-emlekerme-bu/',\n",
       " 'https://penzvero.hu/termek/2015-evi-koszegi-var-ezust-emlekerme-pp/',\n",
       " 'https://penzvero.hu/termek/2015-evi-zsigmondy-richard-szinesfem-emlekerme-bu/',\n",
       " 'https://penzvero.hu/termek/2015-evi-duna-ipoly-nemzeti-park-szinesfem-emlekerme-bu/',\n",
       " 'https://penzvero.hu/termek/2015-evi-zsigmondy-richard-ezust-emlekerme-pp/',\n",
       " 'https://penzvero.hu/termek/2015-evi-duna-ipoly-nemzeti-park-ezust-emlekerme-pp/',\n",
       " 'https://penzvero.hu/termek/2015-evi-tinodi-sebestyen-szinesfem-emlekerme-bu/',\n",
       " 'https://penzvero.hu/termek/2015-evi-tinodi-sebestyen-ezust-emlekerme-pp/',\n",
       " 'https://penzvero.hu/termek/2015-evi-csok-istvan-ezust-emlekerme-pp/',\n",
       " 'https://penzvero.hu/termek/2015-evi-csok-istvan-szinesfem-emlekerme-bu/',\n",
       " 'https://penzvero.hu/termek/2014-evi-spanyi-bela-ezust-emlekerme-pp/',\n",
       " 'https://penzvero.hu/termek/2014-evi-ganz-abraham-szinesfem-emlekerme-bu/',\n",
       " 'https://penzvero.hu/termek/2014-evi-ganz-abraham-szinesfem-emlekerme-pp/',\n",
       " 'https://penzvero.hu/termek/2014-evi-lechner-odon-szinesfem-emlekerme-bu/',\n",
       " 'https://penzvero.hu/termek/2014-evi-zrinyi-miklos-ezust-emlekerme-pp/',\n",
       " 'https://penzvero.hu/termek/2014-evi-lechner-odon-ezust-emlekerme-pp/',\n",
       " 'https://penzvero.hu/termek/2014-evi-barany-robert-ezust-emlekerme-pp/',\n",
       " 'https://penzvero.hu/termek/2014-evi-barany-robert-szinesfem-emlekerme-bu/',\n",
       " 'https://penzvero.hu/termek/2014-evi-magyar-maltai-szeretetszolgalat-szinesfem-erme-bu/',\n",
       " 'https://penzvero.hu/termek/2014-evi-fay-andras-ezust-emlekerme-pp/',\n",
       " 'https://penzvero.hu/termek/2014-evi-fay-andras-szinesfem-emlekerme-bu/',\n",
       " 'https://penzvero.hu/termek/2014-evi-90-eves-az-magyar-nemzeti-bank-ezust-emlekerme-pp/',\n",
       " 'https://penzvero.hu/termek/2014-evi-ybl-miklos-ezust-emlekerme-pp/',\n",
       " 'https://penzvero.hu/termek/2014-evi-egressy-beni-ezust-emlekerme-pp/',\n",
       " 'https://penzvero.hu/termek/2014-evi-ybl-miklos-szinesfem-emlekerme-bu/',\n",
       " 'https://penzvero.hu/termek/2014-evi-egressy-beni-szinesfem-emlekerme-bu/',\n",
       " 'https://penzvero.hu/termek/2014-evi-maria-1382-1395-aranyforintja-arany-emlekerme/',\n",
       " 'https://penzvero.hu/termek/2014-evi-maria-1382-1395-aranyforintja-arany-emlekerme-piedfort/',\n",
       " 'https://penzvero.hu/termek/2013-evi-wigner-jeno-ezust-emlekerme-pp/',\n",
       " 'https://penzvero.hu/termek/2013-evi-wigner-jeno-ezust-emlekerme-bu/',\n",
       " 'https://penzvero.hu/termek/2013-evi-robert-capa-miniarany-emlekerme/',\n",
       " 'https://penzvero.hu/termek/2013-evi-egri-csillagok-szinesfem-emlekerme-pp/',\n",
       " 'https://penzvero.hu/termek/2013-evi-i-lajos-arany-emlekerme-arany-emlekerme/',\n",
       " 'https://penzvero.hu/termek/2013-evi-weores-sandor-ezust-emlekerme-pp/',\n",
       " 'https://penzvero.hu/termek/2013-evi-magyar-tanchaz-modszer-ezust-emlekerme-pp/',\n",
       " 'https://penzvero.hu/termek/2012-evi-szent-gyorgyi-albert-ezust-emlekerme-bu/',\n",
       " 'https://penzvero.hu/termek/2012-evi-szent-gyorgyi-albert-ezust-emlekerme-pp/',\n",
       " 'https://penzvero.hu/termek/2012-evi-popovics-sandor-ezust-emlekerme-bu/',\n",
       " 'https://penzvero.hu/termek/2012-evi-cserkeszszovetseg-szinesfem-emlekerme-pp/',\n",
       " 'https://penzvero.hu/termek/2012-evi-nyari-olimpia-london-ezust-emlekerme-pp/',\n",
       " 'https://penzvero.hu/termek/2012-evi-nyari-olimpiai-jatekok-miniarany-emlekerme/',\n",
       " 'https://penzvero.hu/termek/2012-evi-i-karoly-arany-emlekerme/',\n",
       " 'https://penzvero.hu/termek/2012-evi-i-karoly-arany-emlekerme-piedfort/',\n",
       " 'https://penzvero.hu/termek/2012-evi-masat-i-szinesfem-emlekerme-pp/',\n",
       " 'https://penzvero.hu/termek/2012-evi-masat-i-szinesfem-emlekerme-bu/',\n",
       " 'https://penzvero.hu/termek/2012-evi-az-ember-tragediaja-ezust-emlekerme-bu/',\n",
       " 'https://penzvero.hu/termek/2011-evi-liszt-ferenc-arany-emlekerme-pp/',\n",
       " 'https://penzvero.hu/termek/2011-evi-clark-adam-miniarany-emlekerme/',\n",
       " 'https://penzvero.hu/termek/2011-evi-bibo-istvan-ezust-emlekerme-pp/',\n",
       " 'https://penzvero.hu/termek/2011-evi-deak-teri-evangelikus-templom-ezust-emlekerme-bu/',\n",
       " 'https://penzvero.hu/termek/2011-evi-deak-teri-evangelikus-templom-ezust-emlekerme-pp/',\n",
       " 'https://penzvero.hu/termek/2011-evi-toth-arpad-ezust-emlekerme-pp/',\n",
       " 'https://penzvero.hu/termek/2011-evi-duna-drava-nemzeti-park-ezust-emlekerme-pp/',\n",
       " 'https://penzvero.hu/termek/2011-evi-mohacsi-busojaras-ezust-emlekerme-bu/',\n",
       " 'https://penzvero.hu/termek/2011-evi-mohacsi-busojaras-ezust-emlekerme-pp/',\n",
       " 'https://penzvero.hu/termek/2011-evi-az-eu-tanacsanak-magyar-elnoksege-ezust-emlekerme-proof/',\n",
       " 'https://penzvero.hu/termek/2011-evi-jedlik-anyos-szinesfem-emlekerme-bu/',\n",
       " 'https://penzvero.hu/termek/2011-evi-jedlik-anyos-szinesfem-emlekerme-pp/',\n",
       " 'https://penzvero.hu/termek/2010-evi-uszo-eb-ezust-emlekerme-bu/',\n",
       " 'https://penzvero.hu/termek/2010-evi-orsegi-nemzeti-park-ezust-emlekerme-bu/',\n",
       " 'https://penzvero.hu/termek/2010-evi-orsegi-nemzeti-park-ezust-emlekerme-pp/',\n",
       " 'https://penzvero.hu/termek/2010-evi-kosztolanyi-dezso-ezust-emlekerme-bu/',\n",
       " 'https://penzvero.hu/termek/2010-evi-kosztolanyi-dezso-ezust-emlekerme-pp/',\n",
       " 'https://penzvero.hu/termek/2009-evi-kazinczy-ferenc-ezust-emlekerme-bu/',\n",
       " 'https://penzvero.hu/termek/2009-evi-kazinczy-ferenc-ezust-emlekerme-pp/',\n",
       " 'https://penzvero.hu/termek/2009-evi-kalvin-500-evfordulo-ezust-emlekerme-pp/',\n",
       " 'https://penzvero.hu/termek/2009-evi-zsinagoga-ezust-emlekerme-bu/',\n",
       " 'https://penzvero.hu/termek/2009-evi-zsinagoga-ezust-emlekerme-pp/',\n",
       " 'https://penzvero.hu/termek/2009-evi-budapest-vilagorokseg-ezust-emlekerme-bu/',\n",
       " 'https://penzvero.hu/termek/2009-evi-budapest-vilagorokseg-ezust-emlekerme-pp/',\n",
       " 'https://penzvero.hu/termek/2009-evi-banki-donat-vizturbina-szinesfem-erme-pp/',\n",
       " 'https://penzvero.hu/termek/2009-evi-radnoti-miklos-ezust-emlekerme-bu/',\n",
       " 'https://penzvero.hu/termek/2009-evi-radnoti-miklos-ezust-emlekerme-pp/',\n",
       " 'https://penzvero.hu/termek/2008-evi-telefonhirmondo-szinesfem-emlekerme-pp/',\n",
       " 'https://penzvero.hu/termek/2007-evi-batthyany-lajos-ezust-emlekerme-pp/',\n",
       " 'https://penzvero.hu/termek/2006-evi-ferto-kulturtaj-ezust-emlekerme-bu/',\n",
       " 'https://penzvero.hu/termek/2006-evi-ferto-kulturtaj-ezust-emlekerme-pp/',\n",
       " 'https://penzvero.hu/termek/2006-evi-munkacs-ezust-emlekerme-bu/',\n",
       " 'https://penzvero.hu/termek/2006-evi-bartok-bela-ezust-emlekerme-pp/',\n",
       " 'https://penzvero.hu/termek/2005-evi-teologiai-akademia-ezust-emlekerme-bu/',\n",
       " 'https://penzvero.hu/termek/2005-evi-aggtelek-ezust-emlekerme-bu/',\n",
       " 'https://penzvero.hu/termek/2005-evi-alpar-ignac-ezust-emlekerme-bu/',\n",
       " 'https://penzvero.hu/termek/2005-evi-diosgyori-var-ezust-emlekerme-bu/',\n",
       " 'https://penzvero.hu/termek/2004-evi-pecsi-okereszteny-sirkamrak-ezust-emlekerme-bu/',\n",
       " 'https://penzvero.hu/termek/2004-evi-visegradi-var-ezust-emlekerme-bu/',\n",
       " 'https://penzvero.hu/termek/2004-evi-magyarorszag-az-eu-tagja-ezust-emlekerme-pp/',\n",
       " 'https://penzvero.hu/termek/2003-evi-neumann-janos-ezust-emlekerme-bu/',\n",
       " 'https://penzvero.hu/termek/2003-evi-filharmoniai-tarsasag-ezust-emlekerme-bu/',\n",
       " 'https://penzvero.hu/termek/2003-evi-holloko-ezust-emlekerme-bu/',\n",
       " 'https://penzvero.hu/termek/2002-evi-kovacs-margit-ezust-emlekerme-bu/',\n",
       " 'https://penzvero.hu/termek/2002-evi-bolyai-janos-ezust-emlekerme-bu/',\n",
       " 'https://penzvero.hu/termek/2002-evi-200-eves-az-orszagos-szechenyi-konyvtar-ezust-emlekerme-bu/',\n",
       " 'https://penzvero.hu/termek/2002-evi-hortobagyi-nemzeti-park-ezust-emlekerme-pp/',\n",
       " 'https://penzvero.hu/termek/2001-evi-toldi-miklos-szinesfem-emlekerme-bu/',\n",
       " 'https://penzvero.hu/termek/2001-evi-ludas-matyi-szinesfem-emlekerme-bu/',\n",
       " 'https://penzvero.hu/termek/2001-evi-janos-vitez-szinesfem-emlekerme-bu/',\n",
       " 'https://penzvero.hu/termek/2001-evi-pal-utcai-fiuk-szinesfem-emlekerme-bu/',\n",
       " 'https://penzvero.hu/termek/2001-evi-penzveres-ezust-emlekerme-bu/',\n",
       " 'https://penzvero.hu/termek/2001-evi-godollo-ezust-emlekerme-bu/',\n",
       " 'https://penzvero.hu/termek/2000-evi-lorantffy-zsuzsanna-ezust-emlekerme-bu/',\n",
       " 'https://penzvero.hu/termek/2000-evi-gabor-denes-ezust-emlekerme-bu/',\n",
       " 'https://penzvero.hu/termek/2000-evi-veszelyeztetett-allatvilag-europai-hod-ezust-emlekerme-bu/',\n",
       " 'https://penzvero.hu/termek/1999-evi-2000-evfordulo-millennium-ezust-emlekerme-pp/',\n",
       " 'https://penzvero.hu/termek/1999-evi-nyari-olimpia-2000-sydney-ezust-emlekerme-bu/',\n",
       " 'https://penzvero.hu/termek/1999-evi-nyari-olimpia-2000-sydney-ezust-emlekerme-pp/',\n",
       " 'https://penzvero.hu/termek/1999-evi-integracio-az-europai-unioba-ezust-emlekerme-bu/',\n",
       " 'https://penzvero.hu/termek/1999-evi-75-eves-a-magyar-nemzeti-bank-ezust-emlekerme-bu/',\n",
       " 'https://penzvero.hu/termek/1998-evi-balatoni-hajok-phoenix-ezust-emlekerme-bu/',\n",
       " 'https://penzvero.hu/termek/1998-evi-balatoni-hajok-phoenix-ezust-emlekerme-pp/',\n",
       " 'https://penzvero.hu/termek/1998-evi-ovd-a-termeszetet-wwf-ezust-emlekerme-pp/',\n",
       " 'https://penzvero.hu/termek/1998-evi-unicef-a-vilag-gyermekeiert-ezust-emlekerme-pp/',\n",
       " 'https://penzvero.hu/termek/1998-evi-szabadsagharc-ezust-emlekerme-pp/',\n",
       " 'https://penzvero.hu/termek/1998-evi-szabadsagharc-szinesfem-emlekerme-bu/',\n",
       " 'https://penzvero.hu/termek/1998-evi-1848-49-szabadsagharc-150-evfordulojara-arany-emlekerme/',\n",
       " 'https://penzvero.hu/termek/1998-evi-szabadsagharc-szinesfem-emlekerme-pp/',\n",
       " 'https://penzvero.hu/termek/1997-evi-integracio-az-europai-unioba-budai-var-euro-i-ezust-emlekerme-pp/',\n",
       " 'https://penzvero.hu/termek/1997-evi-balatoni-hajok-helka-es-kelen-ezust-emlekerme-bu/',\n",
       " 'https://penzvero.hu/termek/1996-evi-integracio-az-europai-unioba-parlament-ecu-iii-ezust-emlekerme-pp/',\n",
       " 'https://penzvero.hu/termek/1996-evi-honfoglalas-ezust-emlekerme-bu/',\n",
       " 'https://penzvero.hu/termek/1996-evi-nyari-olimpia-ii-ezust-emlekerme-bu/',\n",
       " 'https://penzvero.hu/termek/1996-evi-nyari-olimpia-ii-ezust-emlekerme-pp/',\n",
       " 'https://penzvero.hu/termek/1995-evi-pannonhalma-ezust-emlekerme-bu/',\n",
       " 'https://penzvero.hu/termek/1995-evi-pannonhalma-ezust-emlekerme-pp/',\n",
       " 'https://penzvero.hu/termek/1995-evi-dunai-hajok-hableany-ezust-emlekerme-bu/',\n",
       " 'https://penzvero.hu/termek/1995-evi-dunai-hajok-hableany-ezust-emlekerme-pp/',\n",
       " 'https://penzvero.hu/termek/1994-evi-1996-evi-nyari-olimpiai-jatekok-ezust-emlekerme-pp/',\n",
       " 'https://penzvero.hu/termek/1994-evi-vedd-a-vilagot-ezust-emlekerme-bu/',\n",
       " 'https://penzvero.hu/termek/1994-evi-vedd-a-vilagot-ezust-emlekerme-pp/',\n",
       " 'https://penzvero.hu/termek/1994-evi-dunai-hajok-carolina-ezust-emlekerme-bu/',\n",
       " 'https://penzvero.hu/termek/1993-evi-expo96-ezust-emlekerme-pp/',\n",
       " 'https://penzvero.hu/termek/1993-evi-integracio-az-europai-kozossegbe-ezust-emlekerme-bu/',\n",
       " 'https://penzvero.hu/termek/1992-evi-feher-golya-ezust-emlekerme-pp/',\n",
       " 'https://penzvero.hu/termek/1992-evi-telstar-ezust-emlekerme-bu/',\n",
       " 'https://penzvero.hu/termek/1992-evi-telstar-ezust-emlekerme-pp/',\n",
       " 'https://penzvero.hu/termek/1992-evi-karoly-robert-arany-emlekerme/',\n",
       " 'https://penzvero.hu/termek/1992-evi-karoly-robert-ezust-emlekerme-bu/',\n",
       " 'https://penzvero.hu/termek/1992-evi-karoly-robert-ezust-emlekerme-pp/',\n",
       " 'https://penzvero.hu/termek/1990-evi-matyas-ii-ezust-emlekerme-bu/',\n",
       " 'https://penzvero.hu/termek/1989-evi-teli-olimpia-1992-ezust-emlekerme-bu/',\n",
       " 'https://penzvero.hu/termek/1989-evi-teli-olimpia-1992-ezust-emlekerme-pp/',\n",
       " 'https://penzvero.hu/termek/1989-evi-vedd-a-gyermekeket-ezust-emlekerme-bu/',\n",
       " 'https://penzvero.hu/termek/1989-evi-vedd-a-gyermekeket-ezust-emlekerme-pp/',\n",
       " 'https://penzvero.hu/termek/1990-evi-labdarugo-vilagbajnoksag-ezust-emlekerme-bu-1989-es-kibocsatas/',\n",
       " 'https://penzvero.hu/termek/1990-evi-labdarugo-vb-ezust-emlekerme-bu-1988-as-kibocsatas/',\n",
       " 'https://penzvero.hu/termek/1988-evi-labdarugo-eb-ezust-emlekerme-bu/',\n",
       " 'https://penzvero.hu/termek/1988-evi-labdarugo-eb-ezust-emlekerme-pp/',\n",
       " 'https://penzvero.hu/termek/1986-evi-1988-as-teli-olimpia-ezust-emlekerme-bu/',\n",
       " 'https://penzvero.hu/termek/1986-evi-buda-visszafoglalasa-ezust-emlekerme/',\n",
       " 'https://penzvero.hu/termek/1986-evi-buda-visszafoglalasa-ezust-emlekerme-pp/',\n",
       " 'https://penzvero.hu/termek/1986-evi-labdarugo-vilagbajnoksag-ii-ezust-emlekerme-bu/',\n",
       " 'https://penzvero.hu/termek/1986-evi-labdarugo-vilagbajnoksag-ii-ezust-emlekerme-pp/',\n",
       " 'https://penzvero.hu/termek/1986-evi-labdarugo-vilagbajnoksag-i-ezust-emlekerme-bu/',\n",
       " 'https://penzvero.hu/termek/1986-evi-labdarugo-vilagbajnoksag-i-ezust-emlekerme-pp/',\n",
       " 'https://penzvero.hu/termek/1985-evi-teknos-ezust-emlekerme-bu/',\n",
       " 'https://penzvero.hu/termek/1985-evi-kulturalis-forum-ezust-emlekerme-pp/',\n",
       " 'https://penzvero.hu/termek/1985-evi-teknos-ezust-emlekerme-bu/',\n",
       " 'https://penzvero.hu/termek/1985-evi-vidra-ezust-emlekerme-bu/',\n",
       " 'https://penzvero.hu/termek/1975-evi-mta-ezust-emlekerme-bu/']"
      ]
     },
     "execution_count": 5,
     "metadata": {},
     "output_type": "execute_result"
    }
   ],
   "source": [
    "termeklinkek_list_gyar(webshoplink_list)"
   ]
  },
  {
   "cell_type": "code",
   "execution_count": 260,
   "id": "a5d1ab5e",
   "metadata": {},
   "outputs": [],
   "source": [
    "def termekadatleolvaso(url):\n",
    "    request = urllib.request.Request(url,None,headers)\n",
    "    response = urllib.request.urlopen(request)\n",
    "    data = response.read()\n",
    "    soup = BeautifulSoup(data, 'html.parser')\n",
    "    summary=soup.find('div', {'class':'summary entry-summary'})\n",
    "    nev=summary.find('h1', {'class':\"product_title entry-title\"}).text\n",
    "    product_meta=soup.find('div', {'class':'product_meta'})\n",
    "    ar=soup.find(\"p\",{\"class\":\"price araloldalon\"}).text\n",
    "    termekadatok=soup.find(\"div\",{\"class\":'termekadatok'}).text.split(\"\\n\")[1:-1]\n",
    "    #van ahol az első sorban valamilyen plusz megjegyzés van, azért, hogy könnyű legyen kezelni, ha nincs, akkor beszórok egy nincs megjegyzést ide, hogy egymás alatt legyenek az ugyanolyan adatok\n",
    "    if len(termekadatok)==9:\n",
    "        termekadatok.insert(0,\"egyéb:-\")\n",
    "    egyeb=termekadatok[0].split(\":\")[1]\n",
    "    try:\n",
    "        nevertek=termekadatok[1].split(\":\")[1]\n",
    "    except:\n",
    "        nevertek=termekadatok[1]\n",
    "    try:\n",
    "        minoseg=termekadatok[2].split(\":\")[1]\n",
    "    except:\n",
    "        minoseg=termekadatok[2]\n",
    "    try:\n",
    "        kibocsatas=termekadatok[3].split(\":\")[1]\n",
    "    except:\n",
    "        kibocsatas=termekadatok[3]\n",
    "    try:\n",
    "        anyag=termekadatok[4].split(\":\")[1]\n",
    "    except:\n",
    "        anyag=termekadatok[4]\n",
    "    try:\n",
    "        finomsag=termekadatok[5].split(\":\")[1]\n",
    "    except:\n",
    "        finomsag=termekadatok[5]\n",
    "    try:\n",
    "        darabszam=termekadatok[6].split(\":\")[1]\n",
    "    except:\n",
    "        darabszam=termekadatok[6]\n",
    "    try:\n",
    "        atmero=termekadatok[7].split(\":\")[1]\n",
    "    except:\n",
    "        atmero=termekadatok[7]\n",
    "    try:\n",
    "        suly=termekadatok[8].split(\":\")[1]\n",
    "    except:\n",
    "        suly=termekadatok[8]\n",
    "    try:\n",
    "        tervezo=termekadatok[9].split(\":\")[1]\n",
    "    except:\n",
    "        tervezo=termekadatok[9]\n",
    "    global adatoklist\n",
    "    adatoklist=[nev,nevertek,minoseg,kibocsatas,anyag,finomsag,darabszam,atmero,suly,tervezo,url]\n",
    "    for x in range(len(adatoklist+1)):\n",
    "        if adatoklist[x]==\"\":\n",
    "            del(adatoklist[x])\n",
    "    nagylist.append(adatoklist)\n"
   ]
  },
  {
   "cell_type": "code",
   "execution_count": 282,
   "id": "99eac17c",
   "metadata": {},
   "outputs": [],
   "source": [
    "def termekadatleolvaso(url):\n",
    "    request = urllib.request.Request(url,None,headers)\n",
    "    response = urllib.request.urlopen(request)\n",
    "    data = response.read()\n",
    "    soup = BeautifulSoup(data, 'html.parser')\n",
    "    summary=soup.find('div', {'class':'summary entry-summary'})\n",
    "    nev=summary.find('h1', {'class':\"product_title entry-title\"}).text\n",
    "    product_meta=soup.find('div', {'class':'product_meta'})\n",
    "    ar=soup.find(\"p\",{\"class\":\"price araloldalon\"}).text\n",
    "    termekadatok=soup.find(\"div\",{\"class\":'termekadatok'}).text.split(\"\\n\")[1:-1]\n",
    "    #van ahol az első sorban valamilyen plusz megjegyzés van, azért, hogy könnyű legyen kezelni, ha nincs, akkor beszórok egy nincs megjegyzést ide, hogy egymás alatt legyenek az ugyanolyan adatok\n",
    "    if len(termekadatok)==9:\n",
    "        termekadatok.insert(0,\"egyéb:-\")\n",
    "    global adatoklist\n",
    "    adatoklist=[]\n",
    "    for adat in termekadatok:\n",
    "        adatoklist.append(adat.split(\":\")[1])\n",
    "    adatoklist=[nev,nevertek,minoseg,kibocsatas,anyag,finomsag,darabszam,atmero,suly,tervezo,url]\n",
    "    for x in range(len(adatoklist+1)):\n",
    "        if adatoklist[x]==\"\":\n",
    "            del(adatoklist[x])\n",
    "    global nagylist\n",
    "    nagylist.append(adatoklist)\n",
    "    return(nagylist)\n"
   ]
  },
  {
   "cell_type": "code",
   "execution_count": 406,
   "id": "321b81a4",
   "metadata": {
    "scrolled": true
   },
   "outputs": [],
   "source": [
    "def termekadatleolvaso_jo(url):\n",
    "    request = urllib.request.Request(url,None,headers)\n",
    "    response = urllib.request.urlopen(request)\n",
    "    data = response.read()\n",
    "    soup = BeautifulSoup(data, 'html.parser')\n",
    "    summary=soup.find('div', {'class':'summary entry-summary'})\n",
    "    nev=summary.find('h1', {'class':\"product_title entry-title\"}).text\n",
    "    product_meta=soup.find('div', {'class':'product_meta'})\n",
    "    ar=soup.find(\"p\",{\"class\":\"price araloldalon\"})\n",
    "    ar_str=\"\"\n",
    "    for char in (ar.text):\n",
    "        if char in \"0123456789\":\n",
    "            ar_str+=char\n",
    "    ar_int=int(ar_str)\n",
    "    termekadatok=soup.find(\"div\",{\"class\":'termekadatok'}).text.split(\"\\n\")[1:-1]\n",
    "    #van ahol az első sorban valamilyen plusz megjegyzés van, azért, hogy könnyű legyen kezelni, ha nincs, akkor beszórok egy nincs megjegyzést ide, hogy egymás alatt legyenek az ugyanolyan adatok\n",
    "    if len(termekadatok)==9:\n",
    "        termekadatok.insert(0,\"egyéb:-\")\n",
    "    global adatoklist\n",
    "    adatoklist=[]\n",
    "    adatoklist.append(nev)\n",
    "    for adat in termekadatok:\n",
    "        try:\n",
    "            adatoklist.append(adat.split(\":\")[1])\n",
    "        except:\n",
    "            pass\n",
    "    adatoklist.append(url)\n",
    "    adatoklist.append(ar_int)\n",
    "    #for x in range(0,len(adatoklist)):\n",
    "     #   if adatoklist[x]==\"\":\n",
    "      #      del(adatoklist[x])\n",
    "    nagylist.append(adatoklist)"
   ]
  },
  {
   "cell_type": "code",
   "execution_count": 516,
   "id": "702f78e4",
   "metadata": {},
   "outputs": [
    {
     "name": "stderr",
     "output_type": "stream",
     "text": [
      "100%|██████████| 228/228 [09:33<00:00,  2.52s/it]\n"
     ]
    }
   ],
   "source": [
    "nagylist=[]\n",
    "for link in tqdm(termeklinkek_list):\n",
    "    termekadatleolvaso_jo(link)"
   ]
  },
  {
   "cell_type": "code",
   "execution_count": 518,
   "id": "66ee0694",
   "metadata": {},
   "outputs": [
    {
     "name": "stdout",
     "output_type": "stream",
     "text": [
      "228\n",
      "228\n"
     ]
    }
   ],
   "source": [
    "print(len(termeklinkek_list))\n",
    "print(len(nagylist))"
   ]
  },
  {
   "cell_type": "markdown",
   "id": "1cb9b8b0",
   "metadata": {},
   "source": [
    "## DataFrame létrehozás"
   ]
  },
  {
   "cell_type": "code",
   "execution_count": 645,
   "id": "692bbc43",
   "metadata": {},
   "outputs": [],
   "source": [
    "df=pd.DataFrame(nagylist,columns=[\"név\",\"egyéb\",\"névérték\",\"minőség\",\"dátum\",\"anyag\",\"finomság\",\"darab\",\"átmérő\",\"tömeg\",\"tervező\",\"url\",\"ár\"])"
   ]
  },
  {
   "cell_type": "code",
   "execution_count": 646,
   "id": "a2d300db",
   "metadata": {},
   "outputs": [
    {
     "name": "stderr",
     "output_type": "stream",
     "text": [
      "<ipython-input-646-75119c3b9d97>:1: FutureWarning: As the xlwt package is no longer maintained, the xlwt engine will be removed in a future version of pandas. This is the only engine in pandas that supports writing in the xls format. Install openpyxl and write to an xlsx file instead. You can set the option io.excel.xls.writer to 'xlwt' to silence this warning. While this option is deprecated and will also raise a warning, it can be globally set and the warning suppressed.\n",
      "  df.to_excel(\"df.xls\")\n"
     ]
    }
   ],
   "source": [
    "df.to_excel(\"df.xls\")"
   ]
  },
  {
   "cell_type": "code",
   "execution_count": 647,
   "id": "9bbe563b",
   "metadata": {},
   "outputs": [
    {
     "data": {
      "text/plain": [
       "['https://penzvero.hu/termek/1985-evi-teknos-ezust-emlekerme-bu/',\n",
       " 'https://penzvero.hu/termek/1985-evi-kulturalis-forum-ezust-emlekerme-pp/',\n",
       " 'https://penzvero.hu/termek/1985-evi-teknos-ezust-emlekerme-bu/',\n",
       " 'https://penzvero.hu/termek/1985-evi-vidra-ezust-emlekerme-bu/',\n",
       " 'https://penzvero.hu/termek/1975-evi-mta-ezust-emlekerme-bu/']"
      ]
     },
     "execution_count": 647,
     "metadata": {},
     "output_type": "execute_result"
    }
   ],
   "source": [
    "sikertelenlinkek_list"
   ]
  },
  {
   "cell_type": "markdown",
   "id": "e14ad1d4",
   "metadata": {},
   "source": [
    "## Adattisztítás"
   ]
  },
  {
   "cell_type": "code",
   "execution_count": 648,
   "id": "5b2c4678",
   "metadata": {},
   "outputs": [
    {
     "data": {
      "text/html": [
       "<div>\n",
       "<style scoped>\n",
       "    .dataframe tbody tr th:only-of-type {\n",
       "        vertical-align: middle;\n",
       "    }\n",
       "\n",
       "    .dataframe tbody tr th {\n",
       "        vertical-align: top;\n",
       "    }\n",
       "\n",
       "    .dataframe thead th {\n",
       "        text-align: right;\n",
       "    }\n",
       "</style>\n",
       "<table border=\"1\" class=\"dataframe\">\n",
       "  <thead>\n",
       "    <tr style=\"text-align: right;\">\n",
       "      <th></th>\n",
       "      <th>név</th>\n",
       "      <th>egyéb</th>\n",
       "      <th>névérték</th>\n",
       "      <th>minőség</th>\n",
       "      <th>dátum</th>\n",
       "      <th>anyag</th>\n",
       "      <th>finomság</th>\n",
       "      <th>darab</th>\n",
       "      <th>átmérő</th>\n",
       "      <th>tömeg</th>\n",
       "      <th>tervező</th>\n",
       "      <th>url</th>\n",
       "      <th>ár</th>\n",
       "    </tr>\n",
       "  </thead>\n",
       "  <tbody>\n",
       "    <tr>\n",
       "      <th>223</th>\n",
       "      <td>1985. évi Teknős ezüst emlékérme BU</td>\n",
       "      <td>Átmeneti készlethiány</td>\n",
       "      <td>200 Ft</td>\n",
       "      <td>BU</td>\n",
       "      <td>1985.09.10.</td>\n",
       "      <td>Ag/Ezüst</td>\n",
       "      <td>.640</td>\n",
       "      <td>13000 darab</td>\n",
       "      <td>35 mm</td>\n",
       "      <td>16 g</td>\n",
       "      <td>Fülöp Zoltán</td>\n",
       "      <td>https://penzvero.hu/termek/1985-evi-teknos-ezu...</td>\n",
       "      <td>4300</td>\n",
       "    </tr>\n",
       "    <tr>\n",
       "      <th>224</th>\n",
       "      <td>1985. évi Kultúrális Fórum ezüst emlékérme PP</td>\n",
       "      <td>-</td>\n",
       "      <td>500 Ft</td>\n",
       "      <td>PP</td>\n",
       "      <td>1985.09.20.</td>\n",
       "      <td>Ag/Ezüst</td>\n",
       "      <td>.640</td>\n",
       "      <td>10000 darab</td>\n",
       "      <td>40 mm</td>\n",
       "      <td>28 g</td>\n",
       "      <td>Csíkszentmihályi Róbert</td>\n",
       "      <td>https://penzvero.hu/termek/1985-evi-kulturalis...</td>\n",
       "      <td>7500</td>\n",
       "    </tr>\n",
       "    <tr>\n",
       "      <th>225</th>\n",
       "      <td>1985. évi Teknős ezüst emlékérme BU</td>\n",
       "      <td>Átmeneti készlethiány</td>\n",
       "      <td>200 Ft</td>\n",
       "      <td>BU</td>\n",
       "      <td>1985.09.10.</td>\n",
       "      <td>Ag/Ezüst</td>\n",
       "      <td>.640</td>\n",
       "      <td>13000 darab</td>\n",
       "      <td>35 mm</td>\n",
       "      <td>16 g</td>\n",
       "      <td>Fülöp Zoltán</td>\n",
       "      <td>https://penzvero.hu/termek/1985-evi-teknos-ezu...</td>\n",
       "      <td>4300</td>\n",
       "    </tr>\n",
       "    <tr>\n",
       "      <th>226</th>\n",
       "      <td>1985. évi Vidra ezüst emlékérme BU</td>\n",
       "      <td>-</td>\n",
       "      <td>200 Ft</td>\n",
       "      <td>BU</td>\n",
       "      <td>1985.06.10.</td>\n",
       "      <td>Ag/Ezüst</td>\n",
       "      <td>.640</td>\n",
       "      <td>13000 darab</td>\n",
       "      <td>35 mm</td>\n",
       "      <td>16 g</td>\n",
       "      <td>Fülöp Zoltán</td>\n",
       "      <td>https://penzvero.hu/termek/1985-evi-vidra-ezus...</td>\n",
       "      <td>4300</td>\n",
       "    </tr>\n",
       "    <tr>\n",
       "      <th>227</th>\n",
       "      <td>1975. évi MTA ezüst emlékérme BU</td>\n",
       "      <td>-</td>\n",
       "      <td>200 Ft</td>\n",
       "      <td>BU</td>\n",
       "      <td>1975.04.30.</td>\n",
       "      <td>Ag/Ezüst</td>\n",
       "      <td>.640</td>\n",
       "      <td>20000 darab</td>\n",
       "      <td>37 mm</td>\n",
       "      <td>28 g</td>\n",
       "      <td>Garányi József</td>\n",
       "      <td>https://penzvero.hu/termek/1975-evi-mta-ezust-...</td>\n",
       "      <td>7100</td>\n",
       "    </tr>\n",
       "  </tbody>\n",
       "</table>\n",
       "</div>"
      ],
      "text/plain": [
       "                                               név                  egyéb  \\\n",
       "223            1985. évi Teknős ezüst emlékérme BU  Átmeneti készlethiány   \n",
       "224  1985. évi Kultúrális Fórum ezüst emlékérme PP                      -   \n",
       "225            1985. évi Teknős ezüst emlékérme BU  Átmeneti készlethiány   \n",
       "226             1985. évi Vidra ezüst emlékérme BU                      -   \n",
       "227               1975. évi MTA ezüst emlékérme BU                      -   \n",
       "\n",
       "    névérték minőség        dátum     anyag finomság        darab átmérő  \\\n",
       "223   200 Ft      BU  1985.09.10.  Ag/Ezüst     .640  13000 darab  35 mm   \n",
       "224   500 Ft      PP  1985.09.20.  Ag/Ezüst     .640  10000 darab  40 mm   \n",
       "225   200 Ft      BU  1985.09.10.  Ag/Ezüst     .640  13000 darab  35 mm   \n",
       "226   200 Ft      BU  1985.06.10.  Ag/Ezüst     .640  13000 darab  35 mm   \n",
       "227   200 Ft      BU  1975.04.30.  Ag/Ezüst     .640  20000 darab  37 mm   \n",
       "\n",
       "    tömeg                  tervező  \\\n",
       "223  16 g             Fülöp Zoltán   \n",
       "224  28 g  Csíkszentmihályi Róbert   \n",
       "225  16 g             Fülöp Zoltán   \n",
       "226  16 g             Fülöp Zoltán   \n",
       "227  28 g           Garányi József   \n",
       "\n",
       "                                                   url    ár  \n",
       "223  https://penzvero.hu/termek/1985-evi-teknos-ezu...  4300  \n",
       "224  https://penzvero.hu/termek/1985-evi-kulturalis...  7500  \n",
       "225  https://penzvero.hu/termek/1985-evi-teknos-ezu...  4300  \n",
       "226  https://penzvero.hu/termek/1985-evi-vidra-ezus...  4300  \n",
       "227  https://penzvero.hu/termek/1975-evi-mta-ezust-...  7100  "
      ]
     },
     "execution_count": 648,
     "metadata": {},
     "output_type": "execute_result"
    }
   ],
   "source": [
    "df.tail()"
   ]
  },
  {
   "cell_type": "markdown",
   "id": "1dcd4bda",
   "metadata": {},
   "source": [
    "### Tömeg"
   ]
  },
  {
   "cell_type": "code",
   "execution_count": 649,
   "id": "491fba7e",
   "metadata": {},
   "outputs": [],
   "source": [
    "#gr leszedése a végéről\n",
    "df[\"tömeg\"]=df[\"tömeg\"].apply(lambda x: x[:-2])\n",
    "\n",
    "#vessző kicserélése pontra\n",
    "df[\"tömeg\"]=df[\"tömeg\"].str.replace(\",\",\".\")\n",
    "\n",
    "#átalakítás float-tá\n",
    "df[\"tömeg\"]=df[\"tömeg\"].astype(float)"
   ]
  },
  {
   "cell_type": "markdown",
   "id": "70e77b00",
   "metadata": {},
   "source": [
    "### darab"
   ]
  },
  {
   "cell_type": "code",
   "execution_count": 650,
   "id": "183f8c71",
   "metadata": {},
   "outputs": [],
   "source": [
    "#darab szócska levágása\n",
    "df[\"darab\"]=df[\"darab\"].apply(lambda x: x[:-6])\n",
    "\n",
    "#integerré alakítás\n",
    "df[\"darab\"]=df[\"darab\"].astype(int)"
   ]
  },
  {
   "cell_type": "markdown",
   "id": "83a238de",
   "metadata": {},
   "source": [
    "### Dátum"
   ]
  },
  {
   "cell_type": "markdown",
   "id": "4b2c57f0",
   "metadata": {},
   "source": [
    "A hatodik érme dátuma rossz, egy fölösleges . van a végén, ezt eltüntetem először"
   ]
  },
  {
   "cell_type": "code",
   "execution_count": 651,
   "id": "abc209b8",
   "metadata": {
    "scrolled": true
   },
   "outputs": [
    {
     "name": "stderr",
     "output_type": "stream",
     "text": [
      "<ipython-input-651-4b88b7d203d4>:1: SettingWithCopyWarning: \n",
      "A value is trying to be set on a copy of a slice from a DataFrame\n",
      "\n",
      "See the caveats in the documentation: https://pandas.pydata.org/pandas-docs/stable/user_guide/indexing.html#returning-a-view-versus-a-copy\n",
      "  df[\"dátum\"][5]=df[\"dátum\"][5][:-1]\n"
     ]
    }
   ],
   "source": [
    "df[\"dátum\"][5]=df[\"dátum\"][5][:-1]"
   ]
  },
  {
   "cell_type": "code",
   "execution_count": 652,
   "id": "401e34ea",
   "metadata": {},
   "outputs": [],
   "source": [
    "df[\"dátum\"]=pd.to_datetime(df[\"dátum\"])"
   ]
  },
  {
   "cell_type": "markdown",
   "id": "7d4bc8af",
   "metadata": {},
   "source": [
    "### Névérték"
   ]
  },
  {
   "cell_type": "code",
   "execution_count": 653,
   "id": "cbf03867",
   "metadata": {},
   "outputs": [],
   "source": [
    "ne_list=[]\n",
    "for ne in list(df[\"névérték\"]):\n",
    "    ne_uj=\"\"\n",
    "    for char in ne:\n",
    "        \n",
    "        if char in \"0123456789\":\n",
    "            ne_uj+=char\n",
    "    #probléma, hogy van, ahol nem szám volt, hanem egy szöveg, hogy készlethiány stb, ezeknél most üres string lett\n",
    "    #ezt úgy oldom meg, hogy megnézem, hogy van-e benne 0 (minden valós névértékben kell, hogy legyen, kerek 1000-esek szoktak lenni)\n",
    "    # ha nincs, akkor -9-et rendelek hozzá, hogy később, könnyen ki tudjam szűrni.\n",
    "    if not '0' in ne_uj:\n",
    "        ne_uj=-9\n",
    "    ne_uj=int(ne_uj)\n",
    "    ne_list.append(ne_uj)\n",
    "ne_list\n",
    "\n",
    "df[\"névérték_int\"]=ne_list"
   ]
  },
  {
   "cell_type": "code",
   "execution_count": 654,
   "id": "a03acd80",
   "metadata": {
    "scrolled": true
   },
   "outputs": [
    {
     "data": {
      "text/html": [
       "<div>\n",
       "<style scoped>\n",
       "    .dataframe tbody tr th:only-of-type {\n",
       "        vertical-align: middle;\n",
       "    }\n",
       "\n",
       "    .dataframe tbody tr th {\n",
       "        vertical-align: top;\n",
       "    }\n",
       "\n",
       "    .dataframe thead th {\n",
       "        text-align: right;\n",
       "    }\n",
       "</style>\n",
       "<table border=\"1\" class=\"dataframe\">\n",
       "  <thead>\n",
       "    <tr style=\"text-align: right;\">\n",
       "      <th></th>\n",
       "      <th>név</th>\n",
       "      <th>egyéb</th>\n",
       "      <th>névérték</th>\n",
       "      <th>minőség</th>\n",
       "      <th>dátum</th>\n",
       "      <th>anyag</th>\n",
       "      <th>finomság</th>\n",
       "      <th>darab</th>\n",
       "      <th>átmérő</th>\n",
       "      <th>tömeg</th>\n",
       "      <th>tervező</th>\n",
       "      <th>url</th>\n",
       "      <th>ár</th>\n",
       "      <th>névérték_int</th>\n",
       "    </tr>\n",
       "  </thead>\n",
       "  <tbody>\n",
       "    <tr>\n",
       "      <th>176</th>\n",
       "      <td>1999. évi 75 éves a Magyar Nemzeti Bank ezüst ...</td>\n",
       "      <td>Átmenetileg nem rendelhető</td>\n",
       "      <td>75 Ft</td>\n",
       "      <td>BU</td>\n",
       "      <td>1999-05-24</td>\n",
       "      <td>Ag/Ezüst</td>\n",
       "      <td>.925</td>\n",
       "      <td>3000</td>\n",
       "      <td>38,61 mm</td>\n",
       "      <td>31.46</td>\n",
       "      <td>Kiss György</td>\n",
       "      <td>https://penzvero.hu/termek/1999-evi-75-eves-a-...</td>\n",
       "      <td>14800</td>\n",
       "      <td>-9</td>\n",
       "    </tr>\n",
       "  </tbody>\n",
       "</table>\n",
       "</div>"
      ],
      "text/plain": [
       "                                                   név  \\\n",
       "176  1999. évi 75 éves a Magyar Nemzeti Bank ezüst ...   \n",
       "\n",
       "                          egyéb névérték minőség      dátum     anyag  \\\n",
       "176  Átmenetileg nem rendelhető    75 Ft      BU 1999-05-24  Ag/Ezüst   \n",
       "\n",
       "    finomság  darab    átmérő  tömeg      tervező  \\\n",
       "176     .925   3000  38,61 mm  31.46  Kiss György   \n",
       "\n",
       "                                                   url     ár  névérték_int  \n",
       "176  https://penzvero.hu/termek/1999-evi-75-eves-a-...  14800            -9  "
      ]
     },
     "execution_count": 654,
     "metadata": {},
     "output_type": "execute_result"
    }
   ],
   "source": [
    "#megnézem, hogy van-e hiba\n",
    "df[df[\"névérték_int\"]==-9]\n"
   ]
  },
  {
   "cell_type": "code",
   "execution_count": 655,
   "id": "43782eef",
   "metadata": {},
   "outputs": [],
   "source": [
    "#ezt manuálisan átírom 75-re\n",
    "df.iloc[176,13]=75"
   ]
  },
  {
   "cell_type": "code",
   "execution_count": 656,
   "id": "53f04d2d",
   "metadata": {},
   "outputs": [
    {
     "data": {
      "text/html": [
       "<div>\n",
       "<style scoped>\n",
       "    .dataframe tbody tr th:only-of-type {\n",
       "        vertical-align: middle;\n",
       "    }\n",
       "\n",
       "    .dataframe tbody tr th {\n",
       "        vertical-align: top;\n",
       "    }\n",
       "\n",
       "    .dataframe thead th {\n",
       "        text-align: right;\n",
       "    }\n",
       "</style>\n",
       "<table border=\"1\" class=\"dataframe\">\n",
       "  <thead>\n",
       "    <tr style=\"text-align: right;\">\n",
       "      <th></th>\n",
       "      <th>név</th>\n",
       "      <th>egyéb</th>\n",
       "      <th>névérték</th>\n",
       "      <th>minőség</th>\n",
       "      <th>dátum</th>\n",
       "      <th>anyag</th>\n",
       "      <th>finomság</th>\n",
       "      <th>darab</th>\n",
       "      <th>átmérő</th>\n",
       "      <th>tömeg</th>\n",
       "      <th>tervező</th>\n",
       "      <th>url</th>\n",
       "      <th>ár</th>\n",
       "      <th>névérték_int</th>\n",
       "    </tr>\n",
       "  </thead>\n",
       "  <tbody>\n",
       "    <tr>\n",
       "      <th>169</th>\n",
       "      <td>2000. évi Lorántffy Zsuzsanna ezüst emlékérme BU</td>\n",
       "      <td>Átmeneti készlethiány</td>\n",
       "      <td>2x2000</td>\n",
       "      <td>BU</td>\n",
       "      <td>2000-06-20</td>\n",
       "      <td>Ag/Ezüst</td>\n",
       "      <td>.925</td>\n",
       "      <td>3000</td>\n",
       "      <td>38 mm</td>\n",
       "      <td>31.46</td>\n",
       "      <td>Lebó Ferenc</td>\n",
       "      <td>https://penzvero.hu/termek/2000-evi-lorantffy-...</td>\n",
       "      <td>14800</td>\n",
       "      <td>22000</td>\n",
       "    </tr>\n",
       "  </tbody>\n",
       "</table>\n",
       "</div>"
      ],
      "text/plain": [
       "                                                  név                  egyéb  \\\n",
       "169  2000. évi Lorántffy Zsuzsanna ezüst emlékérme BU  Átmeneti készlethiány   \n",
       "\n",
       "    névérték minőség      dátum     anyag finomság  darab átmérő  tömeg  \\\n",
       "169   2x2000      BU 2000-06-20  Ag/Ezüst     .925   3000  38 mm  31.46   \n",
       "\n",
       "         tervező                                                url     ár  \\\n",
       "169  Lebó Ferenc  https://penzvero.hu/termek/2000-evi-lorantffy-...  14800   \n",
       "\n",
       "     névérték_int  \n",
       "169         22000  "
      ]
     },
     "execution_count": 656,
     "metadata": {},
     "output_type": "execute_result"
    }
   ],
   "source": [
    "df[df[\"névérték_int\"]==22000]"
   ]
  },
  {
   "cell_type": "code",
   "execution_count": 657,
   "id": "8d27135a",
   "metadata": {},
   "outputs": [],
   "source": [
    "df.iloc[169,13]=4000"
   ]
  },
  {
   "cell_type": "markdown",
   "id": "6b0e4cd6",
   "metadata": {},
   "source": [
    "Az alábbi linken van egy hibás érme:\n",
    "https://penzvero.hu/termek/1986-evi-labdarugo-vilagbajnoksag-ii-ezust-emlekerme-bu/\n",
    "\n",
    "Hiba történt, a valóságban ez egy 500 Ft-os érme, csak a pénzverő webshopjában elírás történt, és véletlenül 50 Ft-osnak írták be, így ezt javítom."
   ]
  },
  {
   "cell_type": "code",
   "execution_count": 658,
   "id": "8a17de74",
   "metadata": {},
   "outputs": [
    {
     "data": {
      "text/html": [
       "<div>\n",
       "<style scoped>\n",
       "    .dataframe tbody tr th:only-of-type {\n",
       "        vertical-align: middle;\n",
       "    }\n",
       "\n",
       "    .dataframe tbody tr th {\n",
       "        vertical-align: top;\n",
       "    }\n",
       "\n",
       "    .dataframe thead th {\n",
       "        text-align: right;\n",
       "    }\n",
       "</style>\n",
       "<table border=\"1\" class=\"dataframe\">\n",
       "  <thead>\n",
       "    <tr style=\"text-align: right;\">\n",
       "      <th></th>\n",
       "      <th>név</th>\n",
       "      <th>egyéb</th>\n",
       "      <th>névérték</th>\n",
       "      <th>minőség</th>\n",
       "      <th>dátum</th>\n",
       "      <th>anyag</th>\n",
       "      <th>finomság</th>\n",
       "      <th>darab</th>\n",
       "      <th>átmérő</th>\n",
       "      <th>tömeg</th>\n",
       "      <th>tervező</th>\n",
       "      <th>url</th>\n",
       "      <th>ár</th>\n",
       "      <th>névérték_int</th>\n",
       "    </tr>\n",
       "  </thead>\n",
       "  <tbody>\n",
       "    <tr>\n",
       "      <th>219</th>\n",
       "      <td>1986. évi Labdarúgó Világbajnokság II. ezüst e...</td>\n",
       "      <td>-</td>\n",
       "      <td>50 Ft</td>\n",
       "      <td>BU</td>\n",
       "      <td>1986-01-13</td>\n",
       "      <td>Ag/Ezüst</td>\n",
       "      <td>.640</td>\n",
       "      <td>8000</td>\n",
       "      <td>40 mm</td>\n",
       "      <td>28.0</td>\n",
       "      <td>Fritz Mihály</td>\n",
       "      <td>https://penzvero.hu/termek/1986-evi-labdarugo-...</td>\n",
       "      <td>7100</td>\n",
       "      <td>50</td>\n",
       "    </tr>\n",
       "  </tbody>\n",
       "</table>\n",
       "</div>"
      ],
      "text/plain": [
       "                                                   név egyéb névérték minőség  \\\n",
       "219  1986. évi Labdarúgó Világbajnokság II. ezüst e...     -    50 Ft      BU   \n",
       "\n",
       "         dátum     anyag finomság  darab átmérő  tömeg       tervező  \\\n",
       "219 1986-01-13  Ag/Ezüst     .640   8000  40 mm   28.0  Fritz Mihály   \n",
       "\n",
       "                                                   url    ár  névérték_int  \n",
       "219  https://penzvero.hu/termek/1986-evi-labdarugo-...  7100            50  "
      ]
     },
     "execution_count": 658,
     "metadata": {},
     "output_type": "execute_result"
    }
   ],
   "source": [
    "df[df[\"név\"]==\"1986. évi Labdarúgó Világbajnokság II. ezüst emlékérme BU\"]"
   ]
  },
  {
   "cell_type": "code",
   "execution_count": 659,
   "id": "c2b12bf7",
   "metadata": {},
   "outputs": [],
   "source": [
    "df.iloc[219,13]=500"
   ]
  },
  {
   "cell_type": "code",
   "execution_count": 660,
   "id": "a3515aa2",
   "metadata": {},
   "outputs": [
    {
     "name": "stdout",
     "output_type": "stream",
     "text": [
      "<class 'pandas.core.frame.DataFrame'>\n",
      "RangeIndex: 228 entries, 0 to 227\n",
      "Data columns (total 14 columns):\n",
      " #   Column        Non-Null Count  Dtype         \n",
      "---  ------        --------------  -----         \n",
      " 0   név           228 non-null    object        \n",
      " 1   egyéb         228 non-null    object        \n",
      " 2   névérték      228 non-null    object        \n",
      " 3   minőség       228 non-null    object        \n",
      " 4   dátum         228 non-null    datetime64[ns]\n",
      " 5   anyag         228 non-null    object        \n",
      " 6   finomság      228 non-null    object        \n",
      " 7   darab         228 non-null    int64         \n",
      " 8   átmérő        228 non-null    object        \n",
      " 9   tömeg         228 non-null    float64       \n",
      " 10  tervező       228 non-null    object        \n",
      " 11  url           228 non-null    object        \n",
      " 12  ár            228 non-null    int64         \n",
      " 13  névérték_int  228 non-null    int64         \n",
      "dtypes: datetime64[ns](1), float64(1), int64(3), object(9)\n",
      "memory usage: 25.1+ KB\n"
     ]
    }
   ],
   "source": [
    "df.info()"
   ]
  },
  {
   "cell_type": "markdown",
   "id": "5a2f51e6",
   "metadata": {},
   "source": [
    "### Anyag"
   ]
  },
  {
   "cell_type": "markdown",
   "id": "c7c0a0d0",
   "metadata": {},
   "source": [
    "Alapvetően három féle anyag van, arany, ezüst és színesfém, a probléma az, hogy ezeket többféleképpen írják, az itt következő részben ezt egységesítem."
   ]
  },
  {
   "cell_type": "code",
   "execution_count": 661,
   "id": "0ffad0e9",
   "metadata": {
    "scrolled": true
   },
   "outputs": [
    {
     "data": {
      "text/plain": [
       "Ag/Ezüst     143\n",
       "színesfém     49\n",
       "Au/Arany      24\n",
       "Ezüst/Ag       4\n",
       "Színesfém      3\n",
       "Ag/ezüst       2\n",
       "               1\n",
       "Au/arany       1\n",
       "Arany          1\n",
       "Name: anyag, dtype: int64"
      ]
     },
     "execution_count": 661,
     "metadata": {},
     "output_type": "execute_result"
    }
   ],
   "source": [
    "df[\"anyag\"].value_counts()"
   ]
  },
  {
   "cell_type": "code",
   "execution_count": 662,
   "id": "3b6125ea",
   "metadata": {},
   "outputs": [],
   "source": [
    "anyag_list=[]\n",
    "#az első betűk szoktak elromlani, ezért anélkül tesztelek\n",
    "for elem in df[\"anyag\"]:\n",
    "    if \"züst\" in elem:\n",
    "        anyag_list.append(\"Ag\")\n",
    "    elif \"rany\" in elem:\n",
    "        anyag_list.append(\"Au\")\n",
    "    elif \"ínesfém\" in elem:\n",
    "        anyag_list.append(\"színesfém\")\n",
    "    else:\n",
    "        anyag_list.append(None)\n",
    "df[\"anyag\"]=anyag_list"
   ]
  },
  {
   "cell_type": "code",
   "execution_count": 664,
   "id": "982ed2b2",
   "metadata": {},
   "outputs": [
    {
     "data": {
      "text/plain": [
       "Ag           149\n",
       "színesfém     52\n",
       "Au            26\n",
       "Name: anyag, dtype: int64"
      ]
     },
     "execution_count": 664,
     "metadata": {},
     "output_type": "execute_result"
    }
   ],
   "source": [
    "df[\"anyag\"].value_counts()"
   ]
  },
  {
   "cell_type": "markdown",
   "id": "b84780de",
   "metadata": {},
   "source": [
    "# Új változók létrehozása"
   ]
  },
  {
   "cell_type": "markdown",
   "id": "dcc38329",
   "metadata": {},
   "source": [
    "### grammonkénti ár mostani árral és névértékkel is"
   ]
  },
  {
   "cell_type": "code",
   "execution_count": 665,
   "id": "a23f1ca1",
   "metadata": {},
   "outputs": [],
   "source": [
    "#árral\n",
    "df[\"ár/gr\"]=df[\"ár\"]/df[\"tömeg\"]\n",
    "\n",
    "#névértékkel\n",
    "df[\"névérték/gr\"]=df[\"névérték_int\"]/df[\"tömeg\"]"
   ]
  },
  {
   "cell_type": "markdown",
   "id": "dcbe4915",
   "metadata": {},
   "source": [
    "### Kor\n"
   ]
  },
  {
   "cell_type": "code",
   "execution_count": 666,
   "id": "d03c7076",
   "metadata": {},
   "outputs": [],
   "source": [
    "df[\"kor\"]=pd.Timestamp.today()-df[\"dátum\"] "
   ]
  },
  {
   "cell_type": "code",
   "execution_count": 667,
   "id": "9a24e8f3",
   "metadata": {},
   "outputs": [],
   "source": [
    "def timedelta_to_years(delta: datetime.timedelta) -> float:\n",
    "        seconds_in_year = 365.25*24*60*60\n",
    "        return delta.total_seconds() / seconds_in_year"
   ]
  },
  {
   "cell_type": "code",
   "execution_count": 668,
   "id": "50320c91",
   "metadata": {},
   "outputs": [],
   "source": [
    "kor_evben_list=[]\n",
    "for cell in df[\"kor\"]:\n",
    "    kor_evben_list.append(timedelta_to_years(cell))\n",
    "df[\"kor_evben\"]=kor_evben_list"
   ]
  },
  {
   "cell_type": "markdown",
   "id": "175b7527",
   "metadata": {},
   "source": [
    "### Értéknövekedés"
   ]
  },
  {
   "cell_type": "markdown",
   "id": "4eadefb3",
   "metadata": {},
   "source": [
    "Az ezüst és színesfém emlékérmék olyankor, hogy bizonyos ideig névértéken lehet megvenni őket, náluk tehát számolható értéknövekedés, a mostani és a névérték különbsége alapján.\n",
    "Az arany esetében nem lehet ilyet, hiszen azt sose árulták névértéken, arról nincs ilyen adatunk. A továbbiakban tehát csak az ezüst és színesfém érmékkel foglalkozok, az adatbázisból kiszűröm az arany érméket, hogy azok ne szerepeljenek."
   ]
  },
  {
   "cell_type": "code",
   "execution_count": 669,
   "id": "f309552c",
   "metadata": {},
   "outputs": [],
   "source": [
    "df_nemarany=df[df[\"anyag\"]!=\"Au\"]"
   ]
  },
  {
   "cell_type": "code",
   "execution_count": 671,
   "id": "367c5e50",
   "metadata": {},
   "outputs": [
    {
     "name": "stderr",
     "output_type": "stream",
     "text": [
      "<ipython-input-671-ae3b044524bb>:1: SettingWithCopyWarning: \n",
      "A value is trying to be set on a copy of a slice from a DataFrame.\n",
      "Try using .loc[row_indexer,col_indexer] = value instead\n",
      "\n",
      "See the caveats in the documentation: https://pandas.pydata.org/pandas-docs/stable/user_guide/indexing.html#returning-a-view-versus-a-copy\n",
      "  df_nemarany[\"absz_erteknov\"]=df_nemarany[\"ár\"]-df_nemarany[\"névérték_int\"]\n"
     ]
    }
   ],
   "source": [
    "df_nemarany[\"absz_erteknov\"]=df_nemarany[\"ár\"]-df_nemarany[\"névérték_int\"]"
   ]
  },
  {
   "cell_type": "markdown",
   "id": "49991ca7",
   "metadata": {},
   "source": [
    "### relatív értéknövekedés"
   ]
  },
  {
   "cell_type": "code",
   "execution_count": 672,
   "id": "bb815e82",
   "metadata": {},
   "outputs": [
    {
     "name": "stderr",
     "output_type": "stream",
     "text": [
      "<ipython-input-672-b03a68887176>:1: SettingWithCopyWarning: \n",
      "A value is trying to be set on a copy of a slice from a DataFrame.\n",
      "Try using .loc[row_indexer,col_indexer] = value instead\n",
      "\n",
      "See the caveats in the documentation: https://pandas.pydata.org/pandas-docs/stable/user_guide/indexing.html#returning-a-view-versus-a-copy\n",
      "  df_nemarany[\"rel_erteknov\"]=df_nemarany[\"absz_erteknov\"]/df_nemarany[\"névérték_int\"]\n"
     ]
    }
   ],
   "source": [
    "df_nemarany[\"rel_erteknov\"]=df_nemarany[\"absz_erteknov\"]/df_nemarany[\"névérték_int\"]"
   ]
  },
  {
   "cell_type": "code",
   "execution_count": 702,
   "id": "49352b14",
   "metadata": {},
   "outputs": [
    {
     "name": "stderr",
     "output_type": "stream",
     "text": [
      "<ipython-input-702-9b4aacd699ac>:1: SettingWithCopyWarning: \n",
      "A value is trying to be set on a copy of a slice from a DataFrame.\n",
      "Try using .loc[row_indexer,col_indexer] = value instead\n",
      "\n",
      "See the caveats in the documentation: https://pandas.pydata.org/pandas-docs/stable/user_guide/indexing.html#returning-a-view-versus-a-copy\n",
      "  df_nemarany[\"éves értéktöbbszöröződés\"]=(df_nemarany[\"rel_erteknov\"]+1)**(1/df_nemarany[\"kor_evben\"])\n"
     ]
    }
   ],
   "source": [
    "df_nemarany[\"éves értéktöbbszöröződés\"]=(df_nemarany[\"rel_erteknov\"]+1)**(1/df_nemarany[\"kor_evben\"])"
   ]
  },
  {
   "cell_type": "code",
   "execution_count": 703,
   "id": "64f2d7fd",
   "metadata": {},
   "outputs": [
    {
     "data": {
      "text/html": [
       "<div>\n",
       "<style scoped>\n",
       "    .dataframe tbody tr th:only-of-type {\n",
       "        vertical-align: middle;\n",
       "    }\n",
       "\n",
       "    .dataframe tbody tr th {\n",
       "        vertical-align: top;\n",
       "    }\n",
       "\n",
       "    .dataframe thead th {\n",
       "        text-align: right;\n",
       "    }\n",
       "</style>\n",
       "<table border=\"1\" class=\"dataframe\">\n",
       "  <thead>\n",
       "    <tr style=\"text-align: right;\">\n",
       "      <th></th>\n",
       "      <th>név</th>\n",
       "      <th>egyéb</th>\n",
       "      <th>névérték</th>\n",
       "      <th>minőség</th>\n",
       "      <th>dátum</th>\n",
       "      <th>anyag</th>\n",
       "      <th>finomság</th>\n",
       "      <th>darab</th>\n",
       "      <th>átmérő</th>\n",
       "      <th>tömeg</th>\n",
       "      <th>...</th>\n",
       "      <th>url</th>\n",
       "      <th>ár</th>\n",
       "      <th>névérték_int</th>\n",
       "      <th>ár/gr</th>\n",
       "      <th>névérték/gr</th>\n",
       "      <th>kor</th>\n",
       "      <th>kor_evben</th>\n",
       "      <th>absz_erteknov</th>\n",
       "      <th>rel_erteknov</th>\n",
       "      <th>éves értéktöbbszöröződés</th>\n",
       "    </tr>\n",
       "  </thead>\n",
       "  <tbody>\n",
       "    <tr>\n",
       "      <th>0</th>\n",
       "      <td>2022. évi Békésy György ezüst emlékérme</td>\n",
       "      <td>-</td>\n",
       "      <td>7 500</td>\n",
       "      <td>Proof</td>\n",
       "      <td>2022-06-03</td>\n",
       "      <td>Ag</td>\n",
       "      <td>.925</td>\n",
       "      <td>4000</td>\n",
       "      <td>30x25 mm</td>\n",
       "      <td>12.50</td>\n",
       "      <td>...</td>\n",
       "      <td>https://penzvero.hu/termek/2022-evi-bekesy-gyo...</td>\n",
       "      <td>7500</td>\n",
       "      <td>7500</td>\n",
       "      <td>600.000000</td>\n",
       "      <td>600.000000</td>\n",
       "      <td>59 days 11:53:09.349575</td>\n",
       "      <td>0.162889</td>\n",
       "      <td>0</td>\n",
       "      <td>0.000000</td>\n",
       "      <td>1.000000</td>\n",
       "    </tr>\n",
       "    <tr>\n",
       "      <th>2</th>\n",
       "      <td>2022. évi Lax Péter ezüst emlékérme Proof</td>\n",
       "      <td>-</td>\n",
       "      <td>7 500</td>\n",
       "      <td>Proof</td>\n",
       "      <td>2022-05-01</td>\n",
       "      <td>Ag</td>\n",
       "      <td>.925</td>\n",
       "      <td>4000</td>\n",
       "      <td>30 mm</td>\n",
       "      <td>12.50</td>\n",
       "      <td>...</td>\n",
       "      <td>https://penzvero.hu/termek/2022-evi-lax-peter-...</td>\n",
       "      <td>7500</td>\n",
       "      <td>7500</td>\n",
       "      <td>600.000000</td>\n",
       "      <td>600.000000</td>\n",
       "      <td>92 days 11:53:09.349575</td>\n",
       "      <td>0.253238</td>\n",
       "      <td>0</td>\n",
       "      <td>0.000000</td>\n",
       "      <td>1.000000</td>\n",
       "    </tr>\n",
       "    <tr>\n",
       "      <th>3</th>\n",
       "      <td>2022. évi Nemes Nagy Ágnes 100 ezüst emlékérme...</td>\n",
       "      <td>-</td>\n",
       "      <td>15 000</td>\n",
       "      <td>Proof</td>\n",
       "      <td>2022-04-11</td>\n",
       "      <td>Ag</td>\n",
       "      <td>.925</td>\n",
       "      <td>5000</td>\n",
       "      <td>38,61 mm</td>\n",
       "      <td>31.46</td>\n",
       "      <td>...</td>\n",
       "      <td>https://penzvero.hu/termek/2022-evi-nemes-nagy...</td>\n",
       "      <td>25000</td>\n",
       "      <td>15000</td>\n",
       "      <td>794.659886</td>\n",
       "      <td>476.795931</td>\n",
       "      <td>112 days 11:53:09.349575</td>\n",
       "      <td>0.307995</td>\n",
       "      <td>10000</td>\n",
       "      <td>0.666667</td>\n",
       "      <td>5.251693</td>\n",
       "    </tr>\n",
       "    <tr>\n",
       "      <th>4</th>\n",
       "      <td>2022. évi Az mRNS alapú vakcinák alapjául szol...</td>\n",
       "      <td>-</td>\n",
       "      <td>3 000</td>\n",
       "      <td>BU</td>\n",
       "      <td>2022-03-10</td>\n",
       "      <td>színesfém</td>\n",
       "      <td>Cu75Ni25</td>\n",
       "      <td>15000</td>\n",
       "      <td>38,61 x 38,61 mm</td>\n",
       "      <td>38.50</td>\n",
       "      <td>...</td>\n",
       "      <td>https://penzvero.hu/termek/2022-evi-az-mrns-al...</td>\n",
       "      <td>3000</td>\n",
       "      <td>3000</td>\n",
       "      <td>77.922078</td>\n",
       "      <td>77.922078</td>\n",
       "      <td>144 days 11:53:09.349575</td>\n",
       "      <td>0.395606</td>\n",
       "      <td>0</td>\n",
       "      <td>0.000000</td>\n",
       "      <td>1.000000</td>\n",
       "    </tr>\n",
       "    <tr>\n",
       "      <th>5</th>\n",
       "      <td>2022. évi Az mRNS alapú vakcinák alapjául szol...</td>\n",
       "      <td>-</td>\n",
       "      <td>15 000</td>\n",
       "      <td>Proof</td>\n",
       "      <td>2022-03-10</td>\n",
       "      <td>Ag</td>\n",
       "      <td>.925</td>\n",
       "      <td>10000</td>\n",
       "      <td>38,61 x 38,61 mm</td>\n",
       "      <td>31.46</td>\n",
       "      <td>...</td>\n",
       "      <td>https://penzvero.hu/termek/2022-evi-az-mrns-al...</td>\n",
       "      <td>25000</td>\n",
       "      <td>15000</td>\n",
       "      <td>794.659886</td>\n",
       "      <td>476.795931</td>\n",
       "      <td>144 days 11:53:09.349575</td>\n",
       "      <td>0.395606</td>\n",
       "      <td>10000</td>\n",
       "      <td>0.666667</td>\n",
       "      <td>3.637320</td>\n",
       "    </tr>\n",
       "    <tr>\n",
       "      <th>...</th>\n",
       "      <td>...</td>\n",
       "      <td>...</td>\n",
       "      <td>...</td>\n",
       "      <td>...</td>\n",
       "      <td>...</td>\n",
       "      <td>...</td>\n",
       "      <td>...</td>\n",
       "      <td>...</td>\n",
       "      <td>...</td>\n",
       "      <td>...</td>\n",
       "      <td>...</td>\n",
       "      <td>...</td>\n",
       "      <td>...</td>\n",
       "      <td>...</td>\n",
       "      <td>...</td>\n",
       "      <td>...</td>\n",
       "      <td>...</td>\n",
       "      <td>...</td>\n",
       "      <td>...</td>\n",
       "      <td>...</td>\n",
       "      <td>...</td>\n",
       "    </tr>\n",
       "    <tr>\n",
       "      <th>223</th>\n",
       "      <td>1985. évi Teknős ezüst emlékérme BU</td>\n",
       "      <td>Átmeneti készlethiány</td>\n",
       "      <td>200 Ft</td>\n",
       "      <td>BU</td>\n",
       "      <td>1985-09-10</td>\n",
       "      <td>Ag</td>\n",
       "      <td>.640</td>\n",
       "      <td>13000</td>\n",
       "      <td>35 mm</td>\n",
       "      <td>16.00</td>\n",
       "      <td>...</td>\n",
       "      <td>https://penzvero.hu/termek/1985-evi-teknos-ezu...</td>\n",
       "      <td>4300</td>\n",
       "      <td>200</td>\n",
       "      <td>268.750000</td>\n",
       "      <td>12.500000</td>\n",
       "      <td>13474 days 11:53:09.349575</td>\n",
       "      <td>36.891157</td>\n",
       "      <td>4100</td>\n",
       "      <td>20.500000</td>\n",
       "      <td>1.086721</td>\n",
       "    </tr>\n",
       "    <tr>\n",
       "      <th>224</th>\n",
       "      <td>1985. évi Kultúrális Fórum ezüst emlékérme PP</td>\n",
       "      <td>-</td>\n",
       "      <td>500 Ft</td>\n",
       "      <td>PP</td>\n",
       "      <td>1985-09-20</td>\n",
       "      <td>Ag</td>\n",
       "      <td>.640</td>\n",
       "      <td>10000</td>\n",
       "      <td>40 mm</td>\n",
       "      <td>28.00</td>\n",
       "      <td>...</td>\n",
       "      <td>https://penzvero.hu/termek/1985-evi-kulturalis...</td>\n",
       "      <td>7500</td>\n",
       "      <td>500</td>\n",
       "      <td>267.857143</td>\n",
       "      <td>17.857143</td>\n",
       "      <td>13464 days 11:53:09.349575</td>\n",
       "      <td>36.863779</td>\n",
       "      <td>7000</td>\n",
       "      <td>14.000000</td>\n",
       "      <td>1.076227</td>\n",
       "    </tr>\n",
       "    <tr>\n",
       "      <th>225</th>\n",
       "      <td>1985. évi Teknős ezüst emlékérme BU</td>\n",
       "      <td>Átmeneti készlethiány</td>\n",
       "      <td>200 Ft</td>\n",
       "      <td>BU</td>\n",
       "      <td>1985-09-10</td>\n",
       "      <td>Ag</td>\n",
       "      <td>.640</td>\n",
       "      <td>13000</td>\n",
       "      <td>35 mm</td>\n",
       "      <td>16.00</td>\n",
       "      <td>...</td>\n",
       "      <td>https://penzvero.hu/termek/1985-evi-teknos-ezu...</td>\n",
       "      <td>4300</td>\n",
       "      <td>200</td>\n",
       "      <td>268.750000</td>\n",
       "      <td>12.500000</td>\n",
       "      <td>13474 days 11:53:09.349575</td>\n",
       "      <td>36.891157</td>\n",
       "      <td>4100</td>\n",
       "      <td>20.500000</td>\n",
       "      <td>1.086721</td>\n",
       "    </tr>\n",
       "    <tr>\n",
       "      <th>226</th>\n",
       "      <td>1985. évi Vidra ezüst emlékérme BU</td>\n",
       "      <td>-</td>\n",
       "      <td>200 Ft</td>\n",
       "      <td>BU</td>\n",
       "      <td>1985-06-10</td>\n",
       "      <td>Ag</td>\n",
       "      <td>.640</td>\n",
       "      <td>13000</td>\n",
       "      <td>35 mm</td>\n",
       "      <td>16.00</td>\n",
       "      <td>...</td>\n",
       "      <td>https://penzvero.hu/termek/1985-evi-vidra-ezus...</td>\n",
       "      <td>4300</td>\n",
       "      <td>200</td>\n",
       "      <td>268.750000</td>\n",
       "      <td>12.500000</td>\n",
       "      <td>13566 days 11:53:09.349575</td>\n",
       "      <td>37.143040</td>\n",
       "      <td>4100</td>\n",
       "      <td>20.500000</td>\n",
       "      <td>1.086108</td>\n",
       "    </tr>\n",
       "    <tr>\n",
       "      <th>227</th>\n",
       "      <td>1975. évi MTA ezüst emlékérme BU</td>\n",
       "      <td>-</td>\n",
       "      <td>200 Ft</td>\n",
       "      <td>BU</td>\n",
       "      <td>1975-04-30</td>\n",
       "      <td>Ag</td>\n",
       "      <td>.640</td>\n",
       "      <td>20000</td>\n",
       "      <td>37 mm</td>\n",
       "      <td>28.00</td>\n",
       "      <td>...</td>\n",
       "      <td>https://penzvero.hu/termek/1975-evi-mta-ezust-...</td>\n",
       "      <td>7100</td>\n",
       "      <td>200</td>\n",
       "      <td>253.571429</td>\n",
       "      <td>7.142857</td>\n",
       "      <td>17260 days 11:53:09.349575</td>\n",
       "      <td>47.256660</td>\n",
       "      <td>6900</td>\n",
       "      <td>34.500000</td>\n",
       "      <td>1.078461</td>\n",
       "    </tr>\n",
       "  </tbody>\n",
       "</table>\n",
       "<p>202 rows × 21 columns</p>\n",
       "</div>"
      ],
      "text/plain": [
       "                                                   név                  egyéb  \\\n",
       "0              2022. évi Békésy György ezüst emlékérme                      -   \n",
       "2            2022. évi Lax Péter ezüst emlékérme Proof                      -   \n",
       "3    2022. évi Nemes Nagy Ágnes 100 ezüst emlékérme...                      -   \n",
       "4    2022. évi Az mRNS alapú vakcinák alapjául szol...                      -   \n",
       "5    2022. évi Az mRNS alapú vakcinák alapjául szol...                      -   \n",
       "..                                                 ...                    ...   \n",
       "223                1985. évi Teknős ezüst emlékérme BU  Átmeneti készlethiány   \n",
       "224      1985. évi Kultúrális Fórum ezüst emlékérme PP                      -   \n",
       "225                1985. évi Teknős ezüst emlékérme BU  Átmeneti készlethiány   \n",
       "226                 1985. évi Vidra ezüst emlékérme BU                      -   \n",
       "227                   1975. évi MTA ezüst emlékérme BU                      -   \n",
       "\n",
       "    névérték minőség      dátum      anyag  finomság  darab            átmérő  \\\n",
       "0      7 500   Proof 2022-06-03         Ag      .925   4000          30x25 mm   \n",
       "2      7 500   Proof 2022-05-01         Ag      .925   4000             30 mm   \n",
       "3     15 000   Proof 2022-04-11         Ag      .925   5000          38,61 mm   \n",
       "4      3 000      BU 2022-03-10  színesfém  Cu75Ni25  15000  38,61 x 38,61 mm   \n",
       "5     15 000   Proof 2022-03-10         Ag      .925  10000  38,61 x 38,61 mm   \n",
       "..       ...     ...        ...        ...       ...    ...               ...   \n",
       "223   200 Ft      BU 1985-09-10         Ag      .640  13000             35 mm   \n",
       "224   500 Ft      PP 1985-09-20         Ag      .640  10000             40 mm   \n",
       "225   200 Ft      BU 1985-09-10         Ag      .640  13000             35 mm   \n",
       "226   200 Ft      BU 1985-06-10         Ag      .640  13000             35 mm   \n",
       "227   200 Ft      BU 1975-04-30         Ag      .640  20000             37 mm   \n",
       "\n",
       "     tömeg  ...                                                url     ár  \\\n",
       "0    12.50  ...  https://penzvero.hu/termek/2022-evi-bekesy-gyo...   7500   \n",
       "2    12.50  ...  https://penzvero.hu/termek/2022-evi-lax-peter-...   7500   \n",
       "3    31.46  ...  https://penzvero.hu/termek/2022-evi-nemes-nagy...  25000   \n",
       "4    38.50  ...  https://penzvero.hu/termek/2022-evi-az-mrns-al...   3000   \n",
       "5    31.46  ...  https://penzvero.hu/termek/2022-evi-az-mrns-al...  25000   \n",
       "..     ...  ...                                                ...    ...   \n",
       "223  16.00  ...  https://penzvero.hu/termek/1985-evi-teknos-ezu...   4300   \n",
       "224  28.00  ...  https://penzvero.hu/termek/1985-evi-kulturalis...   7500   \n",
       "225  16.00  ...  https://penzvero.hu/termek/1985-evi-teknos-ezu...   4300   \n",
       "226  16.00  ...  https://penzvero.hu/termek/1985-evi-vidra-ezus...   4300   \n",
       "227  28.00  ...  https://penzvero.hu/termek/1975-evi-mta-ezust-...   7100   \n",
       "\n",
       "     névérték_int       ár/gr  névérték/gr                        kor  \\\n",
       "0            7500  600.000000   600.000000    59 days 11:53:09.349575   \n",
       "2            7500  600.000000   600.000000    92 days 11:53:09.349575   \n",
       "3           15000  794.659886   476.795931   112 days 11:53:09.349575   \n",
       "4            3000   77.922078    77.922078   144 days 11:53:09.349575   \n",
       "5           15000  794.659886   476.795931   144 days 11:53:09.349575   \n",
       "..            ...         ...          ...                        ...   \n",
       "223           200  268.750000    12.500000 13474 days 11:53:09.349575   \n",
       "224           500  267.857143    17.857143 13464 days 11:53:09.349575   \n",
       "225           200  268.750000    12.500000 13474 days 11:53:09.349575   \n",
       "226           200  268.750000    12.500000 13566 days 11:53:09.349575   \n",
       "227           200  253.571429     7.142857 17260 days 11:53:09.349575   \n",
       "\n",
       "     kor_evben  absz_erteknov  rel_erteknov  éves értéktöbbszöröződés  \n",
       "0     0.162889              0      0.000000                  1.000000  \n",
       "2     0.253238              0      0.000000                  1.000000  \n",
       "3     0.307995          10000      0.666667                  5.251693  \n",
       "4     0.395606              0      0.000000                  1.000000  \n",
       "5     0.395606          10000      0.666667                  3.637320  \n",
       "..         ...            ...           ...                       ...  \n",
       "223  36.891157           4100     20.500000                  1.086721  \n",
       "224  36.863779           7000     14.000000                  1.076227  \n",
       "225  36.891157           4100     20.500000                  1.086721  \n",
       "226  37.143040           4100     20.500000                  1.086108  \n",
       "227  47.256660           6900     34.500000                  1.078461  \n",
       "\n",
       "[202 rows x 21 columns]"
      ]
     },
     "execution_count": 703,
     "metadata": {},
     "output_type": "execute_result"
    }
   ],
   "source": [
    "df_nemarany"
   ]
  },
  {
   "cell_type": "code",
   "execution_count": 717,
   "id": "1918cb06",
   "metadata": {},
   "outputs": [],
   "source": [
    "df.to_excel(\"penzvero_emlekerme_minden_tiszta.xlsx\")\n",
    "df_nemarany.to_excel(\"penzvero_emlekerme_nemarany_tiszta.xlsx\")"
   ]
  },
  {
   "cell_type": "markdown",
   "id": "870c7634",
   "metadata": {},
   "source": [
    "# Ábrák"
   ]
  },
  {
   "cell_type": "markdown",
   "id": "f471224e",
   "metadata": {},
   "source": [
    "Ahol nem említem külön, ott a nem arany érmékre vonatkoznak az ábrák."
   ]
  },
  {
   "cell_type": "markdown",
   "id": "69d1560f",
   "metadata": {},
   "source": [
    "Az alábbi ábra azt mutatja, hogy a mostani ár és az abszolút értéknövekedés hogy függ össze. Szerencsétlen az ábra, mert látszódik, hogy van olyan érme, ahol azt látjuk, mintha nem lenne értéknövekedés, de ez csak azért van, mert azok még csak most lettek kibocsátva, még névértéken kell árulni őket, de összességében úgy néz ki, hogy a nagyobb árú érmékben több a már felhamozódott értéknövekedés."
   ]
  },
  {
   "cell_type": "code",
   "execution_count": 678,
   "id": "8e79af29",
   "metadata": {},
   "outputs": [
    {
     "data": {
      "text/plain": [
       "<AxesSubplot:xlabel='ár', ylabel='absz_erteknov'>"
      ]
     },
     "execution_count": 678,
     "metadata": {},
     "output_type": "execute_result"
    },
    {
     "data": {
      "image/png": "[encoded data removed]",
      "text/plain": [
       "<Figure size 432x288 with 1 Axes>"
      ]
     },
     "metadata": {
      "needs_background": "light"
     },
     "output_type": "display_data"
    }
   ],
   "source": [
    "sns.scatterplot(data=df_nemarany,x=\"ár\",y=\"absz_erteknov\")"
   ]
  },
  {
   "cell_type": "markdown",
   "id": "abadb8f6",
   "metadata": {},
   "source": [
    "Az alábbi ábrán az árat kicseréltem a névértékre. Így már egy olyan ábrát láthatunk, ahol nincs (annyira egyértelmű) pozitív összefüggés, mint az előző ábrán. Ezt valószínűleg az okozza, hogy időközben durva infláció volt, a régi érmék névértéke viszonylag alacsony, de pont amiatt mert régiek, sok idő óta növelik az értéküket, így magas az abszolút értéknövekedésük. Tehát itt összefonódik a névérték és a kibocsátás dátuma."
   ]
  },
  {
   "cell_type": "code",
   "execution_count": 680,
   "id": "a8a47974",
   "metadata": {},
   "outputs": [
    {
     "data": {
      "text/plain": [
       "<AxesSubplot:xlabel='névérték', ylabel='absz_erteknov'>"
      ]
     },
     "execution_count": 680,
     "metadata": {},
     "output_type": "execute_result"
    },
    {
     "data": {
      "image/png": "[encoded data removed]",
      "text/plain": [
       "<Figure size 432x288 with 1 Axes>"
      ]
     },
     "metadata": {
      "needs_background": "light"
     },
     "output_type": "display_data"
    }
   ],
   "source": [
    "sns.scatterplot(data=df_nemarany,x=\"névérték\",y=\"absz_erteknov\")"
   ]
  },
  {
   "cell_type": "markdown",
   "id": "eab8a178",
   "metadata": {},
   "source": [
    "Az alábbi ábrán azt mutatom be, hogy amit az előbb állítottam a kibocsátás dátuma és a névérték között, az igaz. A kibocsátás dátumának függvényében mutatom be a névértékeket. Látható, hogy valóban megfogyelhető a trend, miszerint régebben jellemzően kisebb névértékű érméket bocsátottak ki."
   ]
  },
  {
   "cell_type": "code",
   "execution_count": 681,
   "id": "edb8c5f8",
   "metadata": {},
   "outputs": [
    {
     "data": {
      "text/plain": [
       "<AxesSubplot:xlabel='dátum', ylabel='névérték_int'>"
      ]
     },
     "execution_count": 681,
     "metadata": {},
     "output_type": "execute_result"
    },
    {
     "data": {
      "image/png": "[encoded data removed]",
      "text/plain": [
       "<Figure size 432x288 with 1 Axes>"
      ]
     },
     "metadata": {
      "needs_background": "light"
     },
     "output_type": "display_data"
    }
   ],
   "source": [
    "sns.scatterplot(data=df_nemarany,x=\"dátum\",y=\"névérték_int\")"
   ]
  },
  {
   "cell_type": "markdown",
   "id": "65428143",
   "metadata": {},
   "source": [
    "Az alábbi ábrán az látszódik, hogy hogyan függ össze az érme kora és az abszolút értéknövekedés. Érdekes módon nincs annyira erős pozitív összefüggés, mint vártam. "
   ]
  },
  {
   "cell_type": "code",
   "execution_count": 682,
   "id": "65c03eca",
   "metadata": {
    "scrolled": true
   },
   "outputs": [
    {
     "data": {
      "text/plain": [
       "<AxesSubplot:xlabel='kor_evben', ylabel='absz_erteknov'>"
      ]
     },
     "execution_count": 682,
     "metadata": {},
     "output_type": "execute_result"
    },
    {
     "data": {
      "image/png": "[encoded data removed]",
      "text/plain": [
       "<Figure size 432x288 with 1 Axes>"
      ]
     },
     "metadata": {
      "needs_background": "light"
     },
     "output_type": "display_data"
    }
   ],
   "source": [
    "sns.scatterplot(data=df_nemarany,x=\"kor_evben\",y=\"absz_erteknov\")"
   ]
  },
  {
   "cell_type": "markdown",
   "id": "9f2866e8",
   "metadata": {},
   "source": [
    "Az alábbi ábra hasonlót mutat be, de itt a relatív értéknövekedést mutatja be. Látható, hogy van két igen kiugró érték. Ezeket leellenőriztem, ezek nem hibásak, valóban kiugró értékek. "
   ]
  },
  {
   "cell_type": "code",
   "execution_count": 684,
   "id": "9532245b",
   "metadata": {},
   "outputs": [
    {
     "data": {
      "text/plain": [
       "<AxesSubplot:xlabel='kor_evben', ylabel='rel_erteknov'>"
      ]
     },
     "execution_count": 684,
     "metadata": {},
     "output_type": "execute_result"
    },
    {
     "data": {
      "image/png": "[encoded data removed]",
      "text/plain": [
       "<Figure size 432x288 with 1 Axes>"
      ]
     },
     "metadata": {
      "needs_background": "light"
     },
     "output_type": "display_data"
    }
   ],
   "source": [
    "sns.scatterplot(data=df_nemarany,x=\"kor_evben\",y=\"rel_erteknov\")"
   ]
  },
  {
   "cell_type": "code",
   "execution_count": 690,
   "id": "98a6450f",
   "metadata": {},
   "outputs": [
    {
     "data": {
      "text/html": [
       "<div>\n",
       "<style scoped>\n",
       "    .dataframe tbody tr th:only-of-type {\n",
       "        vertical-align: middle;\n",
       "    }\n",
       "\n",
       "    .dataframe tbody tr th {\n",
       "        vertical-align: top;\n",
       "    }\n",
       "\n",
       "    .dataframe thead th {\n",
       "        text-align: right;\n",
       "    }\n",
       "</style>\n",
       "<table border=\"1\" class=\"dataframe\">\n",
       "  <thead>\n",
       "    <tr style=\"text-align: right;\">\n",
       "      <th></th>\n",
       "      <th>név</th>\n",
       "      <th>egyéb</th>\n",
       "      <th>névérték</th>\n",
       "      <th>minőség</th>\n",
       "      <th>dátum</th>\n",
       "      <th>anyag</th>\n",
       "      <th>finomság</th>\n",
       "      <th>darab</th>\n",
       "      <th>átmérő</th>\n",
       "      <th>tömeg</th>\n",
       "      <th>tervező</th>\n",
       "      <th>url</th>\n",
       "      <th>ár</th>\n",
       "      <th>névérték_int</th>\n",
       "      <th>ár/gr</th>\n",
       "      <th>névérték/gr</th>\n",
       "      <th>kor</th>\n",
       "      <th>kor_evben</th>\n",
       "      <th>absz_erteknov</th>\n",
       "      <th>rel_erteknov</th>\n",
       "    </tr>\n",
       "  </thead>\n",
       "  <tbody>\n",
       "    <tr>\n",
       "      <th>108</th>\n",
       "      <td>2012. évi Cserkészszövetség színesfém emlékérm...</td>\n",
       "      <td>Átmeneti készlethiány</td>\n",
       "      <td>100 Ft</td>\n",
       "      <td>PP</td>\n",
       "      <td>2012-09-28</td>\n",
       "      <td>színesfém</td>\n",
       "      <td></td>\n",
       "      <td>10000</td>\n",
       "      <td>30 mm</td>\n",
       "      <td>10.00</td>\n",
       "      <td>Tóth Zoltán</td>\n",
       "      <td>https://penzvero.hu/termek/2012-evi-cserkeszsz...</td>\n",
       "      <td>2300</td>\n",
       "      <td>100</td>\n",
       "      <td>230.000000</td>\n",
       "      <td>10.000000</td>\n",
       "      <td>3594 days 11:53:09.349575</td>\n",
       "      <td>9.841192</td>\n",
       "      <td>2200</td>\n",
       "      <td>22.000000</td>\n",
       "    </tr>\n",
       "    <tr>\n",
       "      <th>176</th>\n",
       "      <td>1999. évi 75 éves a Magyar Nemzeti Bank ezüst ...</td>\n",
       "      <td>Átmenetileg nem rendelhető</td>\n",
       "      <td>75 Ft</td>\n",
       "      <td>BU</td>\n",
       "      <td>1999-05-24</td>\n",
       "      <td>Ag</td>\n",
       "      <td>.925</td>\n",
       "      <td>3000</td>\n",
       "      <td>38,61 mm</td>\n",
       "      <td>31.46</td>\n",
       "      <td>Kiss György</td>\n",
       "      <td>https://penzvero.hu/termek/1999-evi-75-eves-a-...</td>\n",
       "      <td>14800</td>\n",
       "      <td>75</td>\n",
       "      <td>470.438652</td>\n",
       "      <td>2.383980</td>\n",
       "      <td>8470 days 11:53:09.349575</td>\n",
       "      <td>23.190952</td>\n",
       "      <td>14725</td>\n",
       "      <td>196.333333</td>\n",
       "    </tr>\n",
       "    <tr>\n",
       "      <th>199</th>\n",
       "      <td>1993. évi Expo’96 ezüst emlékérme PP</td>\n",
       "      <td>-</td>\n",
       "      <td>500 Ft</td>\n",
       "      <td>PP</td>\n",
       "      <td>1993-08-17</td>\n",
       "      <td>Ag</td>\n",
       "      <td>.925</td>\n",
       "      <td>80000</td>\n",
       "      <td>38,61 mm</td>\n",
       "      <td>31.46</td>\n",
       "      <td>Gáti Gábor</td>\n",
       "      <td>https://penzvero.hu/termek/1993-evi-expo96-ezu...</td>\n",
       "      <td>14800</td>\n",
       "      <td>500</td>\n",
       "      <td>470.438652</td>\n",
       "      <td>15.893198</td>\n",
       "      <td>10576 days 11:53:09.349575</td>\n",
       "      <td>28.956866</td>\n",
       "      <td>14300</td>\n",
       "      <td>28.600000</td>\n",
       "    </tr>\n",
       "    <tr>\n",
       "      <th>200</th>\n",
       "      <td>1993. évi Integráció az Európai közösségbe ezü...</td>\n",
       "      <td>-</td>\n",
       "      <td>500 Ft</td>\n",
       "      <td>BU</td>\n",
       "      <td>1993-07-01</td>\n",
       "      <td>Ag</td>\n",
       "      <td>.925</td>\n",
       "      <td>10000</td>\n",
       "      <td>38,61 mm</td>\n",
       "      <td>31.46</td>\n",
       "      <td>Bognár György</td>\n",
       "      <td>https://penzvero.hu/termek/1993-evi-integracio...</td>\n",
       "      <td>14800</td>\n",
       "      <td>500</td>\n",
       "      <td>470.438652</td>\n",
       "      <td>15.893198</td>\n",
       "      <td>10623 days 11:53:09.349575</td>\n",
       "      <td>29.085545</td>\n",
       "      <td>14300</td>\n",
       "      <td>28.600000</td>\n",
       "    </tr>\n",
       "    <tr>\n",
       "      <th>202</th>\n",
       "      <td>1992. évi Telstar ezüst emlékérme BU</td>\n",
       "      <td>-</td>\n",
       "      <td>500 Ft</td>\n",
       "      <td>BU</td>\n",
       "      <td>1992-11-23</td>\n",
       "      <td>Ag</td>\n",
       "      <td>.925</td>\n",
       "      <td>5000</td>\n",
       "      <td>38,61 mm</td>\n",
       "      <td>31.46</td>\n",
       "      <td>Bognár György</td>\n",
       "      <td>https://penzvero.hu/termek/1992-evi-telstar-ez...</td>\n",
       "      <td>14800</td>\n",
       "      <td>500</td>\n",
       "      <td>470.438652</td>\n",
       "      <td>15.893198</td>\n",
       "      <td>10843 days 11:53:09.349575</td>\n",
       "      <td>29.687872</td>\n",
       "      <td>14300</td>\n",
       "      <td>28.600000</td>\n",
       "    </tr>\n",
       "    <tr>\n",
       "      <th>203</th>\n",
       "      <td>1992. évi Telstar ezüst emlékérme PP</td>\n",
       "      <td>-</td>\n",
       "      <td>500 Ft</td>\n",
       "      <td>PP</td>\n",
       "      <td>1992-11-23</td>\n",
       "      <td>Ag</td>\n",
       "      <td>.925</td>\n",
       "      <td>15000</td>\n",
       "      <td>38,61 mm</td>\n",
       "      <td>31.46</td>\n",
       "      <td>Bognár György</td>\n",
       "      <td>https://penzvero.hu/termek/1992-evi-telstar-ez...</td>\n",
       "      <td>14800</td>\n",
       "      <td>500</td>\n",
       "      <td>470.438652</td>\n",
       "      <td>15.893198</td>\n",
       "      <td>10843 days 11:53:09.349575</td>\n",
       "      <td>29.687872</td>\n",
       "      <td>14300</td>\n",
       "      <td>28.600000</td>\n",
       "    </tr>\n",
       "    <tr>\n",
       "      <th>205</th>\n",
       "      <td>1992. évi Károly Róbert ezüst emlékérme BU</td>\n",
       "      <td>-</td>\n",
       "      <td>500 Ft</td>\n",
       "      <td>BU</td>\n",
       "      <td>1992-04-06</td>\n",
       "      <td>Ag</td>\n",
       "      <td>.900</td>\n",
       "      <td>10000</td>\n",
       "      <td>40 mm</td>\n",
       "      <td>28.00</td>\n",
       "      <td>Kis Nagy András</td>\n",
       "      <td>https://penzvero.hu/termek/1992-evi-karoly-rob...</td>\n",
       "      <td>14800</td>\n",
       "      <td>500</td>\n",
       "      <td>528.571429</td>\n",
       "      <td>17.857143</td>\n",
       "      <td>11074 days 11:53:09.349575</td>\n",
       "      <td>30.320316</td>\n",
       "      <td>14300</td>\n",
       "      <td>28.600000</td>\n",
       "    </tr>\n",
       "    <tr>\n",
       "      <th>206</th>\n",
       "      <td>1992. évi Károly Róbert ezüst emlékérme PP</td>\n",
       "      <td>-</td>\n",
       "      <td>500 Ft</td>\n",
       "      <td>PP</td>\n",
       "      <td>1992-04-06</td>\n",
       "      <td>Ag</td>\n",
       "      <td>.900</td>\n",
       "      <td>20000</td>\n",
       "      <td>40 mm</td>\n",
       "      <td>28.00</td>\n",
       "      <td>Kis Nagy András</td>\n",
       "      <td>https://penzvero.hu/termek/1992-evi-karoly-rob...</td>\n",
       "      <td>14800</td>\n",
       "      <td>500</td>\n",
       "      <td>528.571429</td>\n",
       "      <td>17.857143</td>\n",
       "      <td>11074 days 11:53:09.349575</td>\n",
       "      <td>30.320316</td>\n",
       "      <td>14300</td>\n",
       "      <td>28.600000</td>\n",
       "    </tr>\n",
       "    <tr>\n",
       "      <th>217</th>\n",
       "      <td>1986. évi Buda visszafoglalása ezüst emlékérme</td>\n",
       "      <td>-</td>\n",
       "      <td>500 Ft</td>\n",
       "      <td>BU</td>\n",
       "      <td>1986-08-28</td>\n",
       "      <td>Ag</td>\n",
       "      <td>.900</td>\n",
       "      <td>20000</td>\n",
       "      <td>40 mm</td>\n",
       "      <td>28.00</td>\n",
       "      <td>Csíkszentmihályi Róbert, Tóth Sándor</td>\n",
       "      <td>https://penzvero.hu/termek/1986-evi-buda-vissz...</td>\n",
       "      <td>14800</td>\n",
       "      <td>500</td>\n",
       "      <td>528.571429</td>\n",
       "      <td>17.857143</td>\n",
       "      <td>13122 days 11:53:09.349575</td>\n",
       "      <td>35.927434</td>\n",
       "      <td>14300</td>\n",
       "      <td>28.600000</td>\n",
       "    </tr>\n",
       "    <tr>\n",
       "      <th>218</th>\n",
       "      <td>1986. évi Buda visszafoglalása ezüst emlékérme PP</td>\n",
       "      <td>-</td>\n",
       "      <td>500 Ft</td>\n",
       "      <td>PP</td>\n",
       "      <td>1986-08-28</td>\n",
       "      <td>Ag</td>\n",
       "      <td>.900</td>\n",
       "      <td>10000</td>\n",
       "      <td>40 mm</td>\n",
       "      <td>28.00</td>\n",
       "      <td>Csíkszentmihályi Róbert, Tóth Sándor</td>\n",
       "      <td>https://penzvero.hu/termek/1986-evi-buda-vissz...</td>\n",
       "      <td>14800</td>\n",
       "      <td>500</td>\n",
       "      <td>528.571429</td>\n",
       "      <td>17.857143</td>\n",
       "      <td>13122 days 11:53:09.349575</td>\n",
       "      <td>35.927434</td>\n",
       "      <td>14300</td>\n",
       "      <td>28.600000</td>\n",
       "    </tr>\n",
       "    <tr>\n",
       "      <th>223</th>\n",
       "      <td>1985. évi Teknős ezüst emlékérme BU</td>\n",
       "      <td>Átmeneti készlethiány</td>\n",
       "      <td>200 Ft</td>\n",
       "      <td>BU</td>\n",
       "      <td>1985-09-10</td>\n",
       "      <td>Ag</td>\n",
       "      <td>.640</td>\n",
       "      <td>13000</td>\n",
       "      <td>35 mm</td>\n",
       "      <td>16.00</td>\n",
       "      <td>Fülöp Zoltán</td>\n",
       "      <td>https://penzvero.hu/termek/1985-evi-teknos-ezu...</td>\n",
       "      <td>4300</td>\n",
       "      <td>200</td>\n",
       "      <td>268.750000</td>\n",
       "      <td>12.500000</td>\n",
       "      <td>13474 days 11:53:09.349575</td>\n",
       "      <td>36.891157</td>\n",
       "      <td>4100</td>\n",
       "      <td>20.500000</td>\n",
       "    </tr>\n",
       "    <tr>\n",
       "      <th>225</th>\n",
       "      <td>1985. évi Teknős ezüst emlékérme BU</td>\n",
       "      <td>Átmeneti készlethiány</td>\n",
       "      <td>200 Ft</td>\n",
       "      <td>BU</td>\n",
       "      <td>1985-09-10</td>\n",
       "      <td>Ag</td>\n",
       "      <td>.640</td>\n",
       "      <td>13000</td>\n",
       "      <td>35 mm</td>\n",
       "      <td>16.00</td>\n",
       "      <td>Fülöp Zoltán</td>\n",
       "      <td>https://penzvero.hu/termek/1985-evi-teknos-ezu...</td>\n",
       "      <td>4300</td>\n",
       "      <td>200</td>\n",
       "      <td>268.750000</td>\n",
       "      <td>12.500000</td>\n",
       "      <td>13474 days 11:53:09.349575</td>\n",
       "      <td>36.891157</td>\n",
       "      <td>4100</td>\n",
       "      <td>20.500000</td>\n",
       "    </tr>\n",
       "    <tr>\n",
       "      <th>226</th>\n",
       "      <td>1985. évi Vidra ezüst emlékérme BU</td>\n",
       "      <td>-</td>\n",
       "      <td>200 Ft</td>\n",
       "      <td>BU</td>\n",
       "      <td>1985-06-10</td>\n",
       "      <td>Ag</td>\n",
       "      <td>.640</td>\n",
       "      <td>13000</td>\n",
       "      <td>35 mm</td>\n",
       "      <td>16.00</td>\n",
       "      <td>Fülöp Zoltán</td>\n",
       "      <td>https://penzvero.hu/termek/1985-evi-vidra-ezus...</td>\n",
       "      <td>4300</td>\n",
       "      <td>200</td>\n",
       "      <td>268.750000</td>\n",
       "      <td>12.500000</td>\n",
       "      <td>13566 days 11:53:09.349575</td>\n",
       "      <td>37.143040</td>\n",
       "      <td>4100</td>\n",
       "      <td>20.500000</td>\n",
       "    </tr>\n",
       "    <tr>\n",
       "      <th>227</th>\n",
       "      <td>1975. évi MTA ezüst emlékérme BU</td>\n",
       "      <td>-</td>\n",
       "      <td>200 Ft</td>\n",
       "      <td>BU</td>\n",
       "      <td>1975-04-30</td>\n",
       "      <td>Ag</td>\n",
       "      <td>.640</td>\n",
       "      <td>20000</td>\n",
       "      <td>37 mm</td>\n",
       "      <td>28.00</td>\n",
       "      <td>Garányi József</td>\n",
       "      <td>https://penzvero.hu/termek/1975-evi-mta-ezust-...</td>\n",
       "      <td>7100</td>\n",
       "      <td>200</td>\n",
       "      <td>253.571429</td>\n",
       "      <td>7.142857</td>\n",
       "      <td>17260 days 11:53:09.349575</td>\n",
       "      <td>47.256660</td>\n",
       "      <td>6900</td>\n",
       "      <td>34.500000</td>\n",
       "    </tr>\n",
       "  </tbody>\n",
       "</table>\n",
       "</div>"
      ],
      "text/plain": [
       "                                                   név  \\\n",
       "108  2012. évi Cserkészszövetség színesfém emlékérm...   \n",
       "176  1999. évi 75 éves a Magyar Nemzeti Bank ezüst ...   \n",
       "199               1993. évi Expo’96 ezüst emlékérme PP   \n",
       "200  1993. évi Integráció az Európai közösségbe ezü...   \n",
       "202               1992. évi Telstar ezüst emlékérme BU   \n",
       "203               1992. évi Telstar ezüst emlékérme PP   \n",
       "205         1992. évi Károly Róbert ezüst emlékérme BU   \n",
       "206         1992. évi Károly Róbert ezüst emlékérme PP   \n",
       "217     1986. évi Buda visszafoglalása ezüst emlékérme   \n",
       "218  1986. évi Buda visszafoglalása ezüst emlékérme PP   \n",
       "223                1985. évi Teknős ezüst emlékérme BU   \n",
       "225                1985. évi Teknős ezüst emlékérme BU   \n",
       "226                 1985. évi Vidra ezüst emlékérme BU   \n",
       "227                   1975. évi MTA ezüst emlékérme BU   \n",
       "\n",
       "                          egyéb névérték minőség      dátum      anyag  \\\n",
       "108       Átmeneti készlethiány   100 Ft      PP 2012-09-28  színesfém   \n",
       "176  Átmenetileg nem rendelhető    75 Ft      BU 1999-05-24         Ag   \n",
       "199                           -   500 Ft      PP 1993-08-17         Ag   \n",
       "200                           -   500 Ft      BU 1993-07-01         Ag   \n",
       "202                           -   500 Ft      BU 1992-11-23         Ag   \n",
       "203                           -   500 Ft      PP 1992-11-23         Ag   \n",
       "205                           -   500 Ft      BU 1992-04-06         Ag   \n",
       "206                           -   500 Ft      PP 1992-04-06         Ag   \n",
       "217                           -   500 Ft      BU 1986-08-28         Ag   \n",
       "218                           -   500 Ft      PP 1986-08-28         Ag   \n",
       "223       Átmeneti készlethiány   200 Ft      BU 1985-09-10         Ag   \n",
       "225       Átmeneti készlethiány   200 Ft      BU 1985-09-10         Ag   \n",
       "226                           -   200 Ft      BU 1985-06-10         Ag   \n",
       "227                           -   200 Ft      BU 1975-04-30         Ag   \n",
       "\n",
       "    finomság  darab    átmérő  tömeg                               tervező  \\\n",
       "108           10000     30 mm  10.00                           Tóth Zoltán   \n",
       "176     .925   3000  38,61 mm  31.46                           Kiss György   \n",
       "199     .925  80000  38,61 mm  31.46                            Gáti Gábor   \n",
       "200     .925  10000  38,61 mm  31.46                         Bognár György   \n",
       "202     .925   5000  38,61 mm  31.46                         Bognár György   \n",
       "203     .925  15000  38,61 mm  31.46                         Bognár György   \n",
       "205     .900  10000     40 mm  28.00                       Kis Nagy András   \n",
       "206     .900  20000     40 mm  28.00                       Kis Nagy András   \n",
       "217     .900  20000     40 mm  28.00  Csíkszentmihályi Róbert, Tóth Sándor   \n",
       "218     .900  10000     40 mm  28.00  Csíkszentmihályi Róbert, Tóth Sándor   \n",
       "223     .640  13000     35 mm  16.00                          Fülöp Zoltán   \n",
       "225     .640  13000     35 mm  16.00                          Fülöp Zoltán   \n",
       "226     .640  13000     35 mm  16.00                          Fülöp Zoltán   \n",
       "227     .640  20000     37 mm  28.00                        Garányi József   \n",
       "\n",
       "                                                   url     ár  névérték_int  \\\n",
       "108  https://penzvero.hu/termek/2012-evi-cserkeszsz...   2300           100   \n",
       "176  https://penzvero.hu/termek/1999-evi-75-eves-a-...  14800            75   \n",
       "199  https://penzvero.hu/termek/1993-evi-expo96-ezu...  14800           500   \n",
       "200  https://penzvero.hu/termek/1993-evi-integracio...  14800           500   \n",
       "202  https://penzvero.hu/termek/1992-evi-telstar-ez...  14800           500   \n",
       "203  https://penzvero.hu/termek/1992-evi-telstar-ez...  14800           500   \n",
       "205  https://penzvero.hu/termek/1992-evi-karoly-rob...  14800           500   \n",
       "206  https://penzvero.hu/termek/1992-evi-karoly-rob...  14800           500   \n",
       "217  https://penzvero.hu/termek/1986-evi-buda-vissz...  14800           500   \n",
       "218  https://penzvero.hu/termek/1986-evi-buda-vissz...  14800           500   \n",
       "223  https://penzvero.hu/termek/1985-evi-teknos-ezu...   4300           200   \n",
       "225  https://penzvero.hu/termek/1985-evi-teknos-ezu...   4300           200   \n",
       "226  https://penzvero.hu/termek/1985-evi-vidra-ezus...   4300           200   \n",
       "227  https://penzvero.hu/termek/1975-evi-mta-ezust-...   7100           200   \n",
       "\n",
       "          ár/gr  névérték/gr                        kor  kor_evben  \\\n",
       "108  230.000000    10.000000  3594 days 11:53:09.349575   9.841192   \n",
       "176  470.438652     2.383980  8470 days 11:53:09.349575  23.190952   \n",
       "199  470.438652    15.893198 10576 days 11:53:09.349575  28.956866   \n",
       "200  470.438652    15.893198 10623 days 11:53:09.349575  29.085545   \n",
       "202  470.438652    15.893198 10843 days 11:53:09.349575  29.687872   \n",
       "203  470.438652    15.893198 10843 days 11:53:09.349575  29.687872   \n",
       "205  528.571429    17.857143 11074 days 11:53:09.349575  30.320316   \n",
       "206  528.571429    17.857143 11074 days 11:53:09.349575  30.320316   \n",
       "217  528.571429    17.857143 13122 days 11:53:09.349575  35.927434   \n",
       "218  528.571429    17.857143 13122 days 11:53:09.349575  35.927434   \n",
       "223  268.750000    12.500000 13474 days 11:53:09.349575  36.891157   \n",
       "225  268.750000    12.500000 13474 days 11:53:09.349575  36.891157   \n",
       "226  268.750000    12.500000 13566 days 11:53:09.349575  37.143040   \n",
       "227  253.571429     7.142857 17260 days 11:53:09.349575  47.256660   \n",
       "\n",
       "     absz_erteknov  rel_erteknov  \n",
       "108           2200     22.000000  \n",
       "176          14725    196.333333  \n",
       "199          14300     28.600000  \n",
       "200          14300     28.600000  \n",
       "202          14300     28.600000  \n",
       "203          14300     28.600000  \n",
       "205          14300     28.600000  \n",
       "206          14300     28.600000  \n",
       "217          14300     28.600000  \n",
       "218          14300     28.600000  \n",
       "223           4100     20.500000  \n",
       "225           4100     20.500000  \n",
       "226           4100     20.500000  \n",
       "227           6900     34.500000  "
      ]
     },
     "execution_count": 690,
     "metadata": {},
     "output_type": "execute_result"
    }
   ],
   "source": [
    "df_nemarany[df_nemarany[\"rel_erteknov\"]>20]"
   ]
  },
  {
   "cell_type": "markdown",
   "id": "0062cd0f",
   "metadata": {},
   "source": [
    "Az alábbiakban összehasonlítom az ezüst és a színesfém érméket"
   ]
  },
  {
   "cell_type": "code",
   "execution_count": 691,
   "id": "e0be544f",
   "metadata": {},
   "outputs": [
    {
     "name": "stderr",
     "output_type": "stream",
     "text": [
      "<ipython-input-691-7bc46eaedb1a>:1: FutureWarning: DataFrame.mean and DataFrame.median with numeric_only=None will include datetime64 and datetime64tz columns in a future version.\n",
      "  df[df[\"anyag\"]==\"Au\"].mean()\n"
     ]
    },
    {
     "data": {
      "text/plain": [
       "darab                            3942.307692\n",
       "tömeg                               5.389154\n",
       "ár                             146230.769231\n",
       "névérték_int                         32500.0\n",
       "ár/gr                           30023.026622\n",
       "névérték/gr                      8999.062547\n",
       "kor             2942 days 12:48:32.426498048\n",
       "kor_evben                           8.056218\n",
       "dtype: object"
      ]
     },
     "execution_count": 691,
     "metadata": {},
     "output_type": "execute_result"
    }
   ],
   "source": [
    "df[df[\"anyag\"]==\"Au\"].mean()"
   ]
  },
  {
   "cell_type": "code",
   "execution_count": 692,
   "id": "ea45cf8d",
   "metadata": {
    "scrolled": true
   },
   "outputs": [
    {
     "name": "stderr",
     "output_type": "stream",
     "text": [
      "<ipython-input-692-2d6a1e6b77ea>:1: FutureWarning: DataFrame.mean and DataFrame.median with numeric_only=None will include datetime64 and datetime64tz columns in a future version.\n",
      "  df[df[\"anyag\"]==\"Ag\"].mean()\n"
     ]
    },
    {
     "data": {
      "text/plain": [
       "darab                            8859.060403\n",
       "tömeg                              27.886711\n",
       "ár                              13446.979866\n",
       "névérték_int                     4765.604027\n",
       "ár/gr                             494.632202\n",
       "névérték/gr                       183.223614\n",
       "kor             6255 days 01:44:17.805950784\n",
       "kor_evben                          17.125455\n",
       "dtype: object"
      ]
     },
     "execution_count": 692,
     "metadata": {},
     "output_type": "execute_result"
    }
   ],
   "source": [
    "df[df[\"anyag\"]==\"Ag\"].mean()"
   ]
  },
  {
   "cell_type": "code",
   "execution_count": 693,
   "id": "adf97d9d",
   "metadata": {},
   "outputs": [
    {
     "name": "stderr",
     "output_type": "stream",
     "text": [
      "<ipython-input-693-c8d3e2f98346>:1: FutureWarning: DataFrame.mean and DataFrame.median with numeric_only=None will include datetime64 and datetime64tz columns in a future version.\n",
      "  df[df[\"anyag\"]==\"színesfém\"].mean()\n"
     ]
    },
    {
     "data": {
      "text/plain": [
       "darab                            7192.307692\n",
       "tömeg                              17.341538\n",
       "ár                               3478.846154\n",
       "névérték_int                     1636.538462\n",
       "ár/gr                             306.368631\n",
       "névérték/gr                       141.187734\n",
       "kor             3145 days 18:20:50.888036512\n",
       "kor_evben                           8.612634\n",
       "dtype: object"
      ]
     },
     "execution_count": 693,
     "metadata": {},
     "output_type": "execute_result"
    }
   ],
   "source": [
    "df[df[\"anyag\"]==\"színesfém\"].mean()"
   ]
  },
  {
   "cell_type": "markdown",
   "id": "be0c50a1",
   "metadata": {},
   "source": [
    "A fenti három átlag-táblazat adataiból jól látszódik, hogy mennyire mások az arany, az ezüst és a színesfém emlékérmék. Az aranyérmék mai átlagára majdnem 150 ezer forint, az ezüstöké 13 ezer fölött van, a színesfémeké pedig 3500 forint környékén. Ez egyébként logikus, a fém értéke alapján is ezt várhattuk. A darabszámoknál megfigyelhető, hogy míg aranypénzekből átlagosan 4000 darabot adtak ki, ezüstből ez a 9 ezret közelítette. Érdekes módon a színesfém pénzek darabszáma a kettő között volt, nem adtak ki belőlük többet, mint az ezüstpénzekből. Az ezüst és az arany pénzeknél érdemes megfigyelni a grammonkénti árat, illetve a grammonkénti névértéket. Mindkét értéknél azt látjuk, hogy mindkét csoportban az alapanyag fém világpiaci áránál lényegesen magasabb, tehát a pénzek értékét nem pusztán a tartalmazott nemesfém adja. (Érdemes megjegyezni, hogy itt nem csak a közelmúltban kiadott  érmék vannak, az infláció miatt az itt látható értéknél lényegesen magasabb volt a névérték értéke a legtöbbnél, mint most, vagyis az előző megállapítás csak még erősebben igazolódna, ha az inflációt is beleszámítanám.)"
   ]
  },
  {
   "cell_type": "markdown",
   "id": "dfccd754",
   "metadata": {},
   "source": [
    "Csinálok egy fiatal érmek df-et, hogy bemutassam, hogy ez igaz. Ezeknél az érméknél a fiatalságuk miatt az infláció hatása még kicsi. Valóban látható, hogy mindkét csoportnál feljebb ment a  grammonkénti névérték."
   ]
  },
  {
   "cell_type": "code",
   "execution_count": 694,
   "id": "9f120b75",
   "metadata": {},
   "outputs": [],
   "source": [
    "df_fiatal=df[df[\"kor_evben\"]<5]"
   ]
  },
  {
   "cell_type": "code",
   "execution_count": 695,
   "id": "98d69fee",
   "metadata": {},
   "outputs": [
    {
     "data": {
      "text/plain": [
       "394.3974920179577"
      ]
     },
     "execution_count": 695,
     "metadata": {},
     "output_type": "execute_result"
    }
   ],
   "source": [
    "df_fiatal[df_fiatal[\"anyag\"]==\"Ag\"][\"névérték/gr\"].mean()"
   ]
  },
  {
   "cell_type": "code",
   "execution_count": 696,
   "id": "22969ec6",
   "metadata": {},
   "outputs": [
    {
     "data": {
      "text/plain": [
       "28491.99491165693"
      ]
     },
     "execution_count": 696,
     "metadata": {},
     "output_type": "execute_result"
    }
   ],
   "source": [
    "df_fiatal[df_fiatal[\"anyag\"]==\"Au\"][\"ár/gr\"].mean()"
   ]
  },
  {
   "cell_type": "code",
   "execution_count": 716,
   "id": "572a0bad",
   "metadata": {},
   "outputs": [
    {
     "data": {
      "text/plain": [
       "<AxesSubplot:xlabel='dátum', ylabel='éves értéktöbbszöröződés'>"
      ]
     },
     "execution_count": 716,
     "metadata": {},
     "output_type": "execute_result"
    },
    {
     "data": {
      "image/png": "[encoded data removed]",
      "text/plain": [
       "<Figure size 432x288 with 1 Axes>"
      ]
     },
     "metadata": {
      "needs_background": "light"
     },
     "output_type": "display_data"
    }
   ],
   "source": [
    "sns.scatterplot(data=df_nemarany,x=\"dátum\",y=\"éves értéktöbbszöröződés\", hue=\"anyag\")"
   ]
  },
  {
   "cell_type": "code",
   "execution_count": 713,
   "id": "c370ab63",
   "metadata": {},
   "outputs": [
    {
     "data": {
      "text/plain": [
       "<AxesSubplot:xlabel='névérték_int', ylabel='éves értéktöbbszöröződés'>"
      ]
     },
     "execution_count": 713,
     "metadata": {},
     "output_type": "execute_result"
    },
    {
     "data": {
      "image/png": "[encoded data removed]",
      "text/plain": [
       "<Figure size 432x288 with 1 Axes>"
      ]
     },
     "metadata": {
      "needs_background": "light"
     },
     "output_type": "display_data"
    }
   ],
   "source": [
    "sns.scatterplot(data=df_nemarany,x=\"névérték_int\",y=\"éves értéktöbbszöröződés\", hue=\"kor_evben\")"
   ]
  },
  {
   "cell_type": "code",
   "execution_count": 714,
   "id": "ce017db4",
   "metadata": {},
   "outputs": [
    {
     "data": {
      "text/plain": [
       "<AxesSubplot:xlabel='névérték_int', ylabel='éves értéktöbbszöröződés'>"
      ]
     },
     "execution_count": 714,
     "metadata": {},
     "output_type": "execute_result"
    },
    {
     "data": {
      "image/png": "[encoded data removed]",
      "text/plain": [
       "<Figure size 432x288 with 1 Axes>"
      ]
     },
     "metadata": {
      "needs_background": "light"
     },
     "output_type": "display_data"
    }
   ],
   "source": [
    "sns.scatterplot(data=df_nemarany,x=\"névérték_int\",y=\"éves értéktöbbszöröződés\", hue=\"anyag\")"
   ]
  },
  {
   "cell_type": "code",
   "execution_count": null,
   "id": "f1b3c745",
   "metadata": {},
   "outputs": [],
   "source": []
  }
 ],
 "metadata": {
  "kernelspec": {
   "display_name": "Python 3",
   "language": "python",
   "name": "python3"
  },
  "language_info": {
   "codemirror_mode": {
    "name": "ipython",
    "version": 3
   },
   "file_extension": ".py",
   "mimetype": "text/x-python",
   "name": "python",
   "nbconvert_exporter": "python",
   "pygments_lexer": "ipython3",
   "version": "3.8.8"
  }
 },
 "nbformat": 4,
 "nbformat_minor": 5
}
